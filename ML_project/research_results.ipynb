{
 "cells": [
  {
   "cell_type": "markdown",
   "metadata": {},
   "source": [
    "## Results"
   ]
  },
  {
   "cell_type": "markdown",
   "metadata": {},
   "source": [
    "### Base Testing"
   ]
  },
  {
   "cell_type": "markdown",
   "metadata": {},
   "source": [
    "| Test | Epochs Ran | Validation Loss Increase? | Val Accuracy Peak |\n",
    "| --- | --- | --- | --- |\n",
    "| Base CNN | 10 | Yes | 72% |\n",
    "| Base ResNet | 20 | Yes | 85% |\n",
    "| Base AlexNet | 20 | Yes | 82% |"
   ]
  },
  {
   "cell_type": "markdown",
   "metadata": {},
   "source": [
    "The plots of the losses confirm that overfitting is likely occuring in all cases. Therefore, we will attempt to randomize our validation sets more to curb this."
   ]
  },
  {
   "cell_type": "markdown",
   "metadata": {},
   "source": [
    "### Base Testing with Randomized Validation"
   ]
  },
  {
   "cell_type": "markdown",
   "metadata": {},
   "source": [
    "| Test | Epochs Ran | Validation Loss Increase? | Val Accuracy Peak | Test Accuracy |\n",
    "| --- | --- | --- | --- | --- |\n",
    "| ResNet | 20 | Yes | 99% | 83% |\n",
    "| ResNet | 12 | No | 99% | 87% |\n",
    "| AlexNet | 20 | No | 97% | 89% |\n",
    "| AlexNet | 25 | No | 97% | 90% |"
   ]
  }
 ],
 "metadata": {
  "language_info": {
   "name": "python"
  }
 },
 "nbformat": 4,
 "nbformat_minor": 2
}
