{
 "cells": [
  {
   "cell_type": "code",
   "execution_count": 4,
   "metadata": {},
   "outputs": [],
   "source": [
    "import torch\n",
    "import torch.nn as nn\n",
    "import torch.nn.functional as F"
   ]
  },
  {
   "cell_type": "code",
   "execution_count": 3,
   "metadata": {},
   "outputs": [],
   "source": [
    "input_shape = (3, 256, 256)\n",
    "output_shape = 4\n",
    "\n",
    "def cnn_final_convolution_size(initial_size, kernel_size, pooling_size):\n",
    "    size = initial_size\n",
    "    size = size - kernel_size + 1\n",
    "    size = size // pooling_size\n",
    "    size = size - kernel_size + 1\n",
    "    size = size // pooling_size\n",
    "    return size"
   ]
  },
  {
   "cell_type": "markdown",
   "metadata": {},
   "source": [
    "Basic Model"
   ]
  },
  {
   "cell_type": "code",
   "execution_count": 5,
   "metadata": {},
   "outputs": [],
   "source": [
    "class MRI_CNN(nn.Module):\n",
    "    def __init__(self, kernel_size=5, conv_out_features_1=32, conv_out_features_2=64, pooling_size=2, linear_size_1=512, linear_size_2=128):\n",
    "        super(MRI_CNN, self).__init__()\n",
    "        self.conv1 = nn.Conv2d(input_shape[0], conv_out_features_1, kernel_size)\n",
    "        self.pool = nn.MaxPool2d(pooling_size, pooling_size)\n",
    "        self.conv2 = nn.Conv2d(conv_out_features_1, conv_out_features_2, kernel_size)\n",
    "        self.fc1 = nn.Linear(\n",
    "            conv_out_features_2 * cnn_final_convolution_size(input_shape[1], kernel_size, pooling_size) * cnn_final_convolution_size(input_shape[2], kernel_size, pooling_size),\n",
    "            linear_size_1) \n",
    "        self.fc2 = nn.Linear(linear_size_1, linear_size_2)\n",
    "        self.fc3 = nn.Linear(linear_size_2, output_shape) \n",
    "\n",
    "    def forward(self, x):\n",
    "        x = F.relu(self.conv1(x))\n",
    "        x = self.pool(x)\n",
    "        x = F.relu(self.conv2(x))\n",
    "        x = self.pool(x)\n",
    "        x = torch.flatten(x, 1)\n",
    "        x = F.relu(self.fc1(x))\n",
    "        x = F.relu(self.fc2(x))\n",
    "        x = self.fc3(x)\n",
    "        return x"
   ]
  }
 ],
 "metadata": {
  "kernelspec": {
   "display_name": "Python 3",
   "language": "python",
   "name": "python3"
  },
  "language_info": {
   "codemirror_mode": {
    "name": "ipython",
    "version": 3
   },
   "file_extension": ".py",
   "mimetype": "text/x-python",
   "name": "python",
   "nbconvert_exporter": "python",
   "pygments_lexer": "ipython3",
   "version": "3.11.5"
  }
 },
 "nbformat": 4,
 "nbformat_minor": 2
}
