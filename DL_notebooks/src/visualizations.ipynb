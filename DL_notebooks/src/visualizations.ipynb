{
 "cells": [
  {
   "cell_type": "code",
   "execution_count": 3,
   "metadata": {},
   "outputs": [],
   "source": [
    "import matplotlib.pyplot as plt\n",
    "import numpy as np\n",
    "import itertools\n",
    "from mpl_toolkits.mplot3d import Axes3D\n",
    "from sklearn.decomposition import PCA\n",
    "import umap\n",
    "from sklearn.manifold import TSNE\n",
    "import plotly.express as px\n",
    "from sklearn.metrics import roc_curve, auc\n",
    "import torch\n",
    "\n"
   ]
  },
  {
   "cell_type": "markdown",
   "metadata": {},
   "source": [
    "Plotting Confusion Matrix:"
   ]
  },
  {
   "cell_type": "code",
   "execution_count": 2,
   "metadata": {},
   "outputs": [],
   "source": [
    "def plot_confusion_matrix(cm, classes, title='Confusion Matrix', cmap=plt.cm.Blues):\n",
    "    plt.figure(figsize=(8, 6))\n",
    "    plt.imshow(cm, interpolation='nearest', cmap=cmap)\n",
    "    plt.title(title)\n",
    "    plt.colorbar()\n",
    "    tick_marks = np.arange(len(classes))\n",
    "    plt.xticks(tick_marks, classes, rotation=45)\n",
    "    plt.yticks(tick_marks, classes)\n",
    "\n",
    "    fmt = 'd'\n",
    "    thresh = cm.max() / 2.\n",
    "    for i, j in itertools.product(range(cm.shape[0]), range(cm.shape[1])):\n",
    "        plt.text(j, i, format(cm[i, j], fmt), horizontalalignment=\"center\", color=\"white\" if cm[i, j] > thresh else \"black\")\n",
    "\n",
    "    plt.tight_layout()\n",
    "    plt.ylabel('True label')\n",
    "    plt.xlabel('Predicted label')"
   ]
  },
  {
   "cell_type": "markdown",
   "metadata": {},
   "source": [
    "Visualizing with PCA:"
   ]
  },
  {
   "cell_type": "code",
   "execution_count": null,
   "metadata": {},
   "outputs": [],
   "source": [
    "def plot_pca_images(images,labels, dim=2):\n",
    "    pca = PCA(n_components=dim)\n",
    "    data_pca = pca.fit_transform(images)\n",
    "\n",
    "    if dim == 2:\n",
    "        plt.scatter(data_pca[:, 0], data_pca[:, 1], c=labels)\n",
    "        plt.title('PCA (2D)')\n",
    "    elif dim == 3:\n",
    "        fig = plt.figure()\n",
    "        ax = fig.add_subplot(111, projection='3d')\n",
    "        ax.scatter(data_pca[:, 0], data_pca[:, 1], data_pca[:, 2], c=labels)\n",
    "        ax.set_title('PCA (3D)')\n",
    "\n",
    "    plt.show()\n",
    "\n",
    "def plot_pca_images_3d_plotly(images, labels):\n",
    "    pca = PCA(n_components=3)\n",
    "    data_pca = pca.fit_transform(images)\n",
    "\n",
    "    fig = px.scatter_3d(x=data_pca[:, 0], y=data_pca[:, 1], z=data_pca[:, 2], color=labels)\n",
    "    fig.update_layout(title='PCA (3D)')\n",
    "\n",
    "    fig.show()"
   ]
  },
  {
   "cell_type": "markdown",
   "metadata": {},
   "source": [
    "Visualizing with UMAP:"
   ]
  },
  {
   "cell_type": "code",
   "execution_count": null,
   "metadata": {},
   "outputs": [],
   "source": [
    "def plot_umap_images(images, labels, dim=2):\n",
    "    umap_model = umap.UMAP(n_components=dim)\n",
    "    data_umap = umap_model.fit_transform(images)\n",
    "\n",
    "    if dim == 2:\n",
    "        plt.scatter(data_umap[:, 0], data_umap[:, 1], c=labels)\n",
    "        plt.title('UMAP (2D)')\n",
    "    elif dim == 3:\n",
    "        fig = plt.figure()\n",
    "        ax = fig.add_subplot(111, projection='3d')\n",
    "        ax.scatter(data_umap[:, 0], data_umap[:, 1], data_umap[:, 2], c=labels)\n",
    "        ax.set_title('UMAP (3D)')\n",
    "\n",
    "    plt.show()\n",
    "    \n",
    "    \n",
    "def plot_umap_images_3d_plotly(images, labels):\n",
    "    umap_model = umap.UMAP(n_components=3)\n",
    "    data_umap = umap_model.fit_transform(images)\n",
    "\n",
    "    fig = px.scatter_3d(x=data_umap[:, 0], y=data_umap[:, 1], z=data_umap[:, 2], color=labels)\n",
    "    fig.update_layout(title='UMAP (3D)')\n",
    "\n",
    "    fig.show()"
   ]
  },
  {
   "cell_type": "markdown",
   "metadata": {},
   "source": [
    "Visualizing with t-SNE:"
   ]
  },
  {
   "cell_type": "code",
   "execution_count": null,
   "metadata": {},
   "outputs": [],
   "source": [
    "def plot_tsne_images(images, labels, dim=2):\n",
    "    tsne = TSNE(n_components=dim)\n",
    "    images_array = np.array(images)\n",
    "    data_tsne = tsne.fit_transform(images_array)\n",
    "\n",
    "    if dim == 2:\n",
    "        plt.scatter(data_tsne[:, 0], data_tsne[:, 1], c=labels)\n",
    "        plt.title('t-SNE (2D)')\n",
    "    elif dim == 3:\n",
    "        fig = plt.figure()\n",
    "        ax = fig.add_subplot(111, projection='3d')\n",
    "        ax.scatter(data_tsne[:, 0], data_tsne[:, 1], data_tsne[:, 2], c=labels)\n",
    "        ax.set_title('t-SNE (3D)')\n",
    "\n",
    "    plt.show()\n",
    "    \n",
    "    \n",
    "def plot_tsne_images_3d_plotly(images, labels):\n",
    "    tsne = TSNE(n_components=3)\n",
    "    images_array = np.array(images)\n",
    "    data_tsne = tsne.fit_transform(images_array)\n",
    "\n",
    "    fig = px.scatter_3d(x=data_tsne[:, 0], y=data_tsne[:, 1], z=data_tsne[:, 2], color=labels)\n",
    "    fig.update_layout(title='t-SNE (3D)')\n",
    "\n",
    "    fig.show()"
   ]
  },
  {
   "cell_type": "markdown",
   "metadata": {},
   "source": [
    "Printing AUC Curve:"
   ]
  },
  {
   "cell_type": "code",
   "execution_count": null,
   "metadata": {},
   "outputs": [],
   "source": [
    "device = torch.device(\"cuda\" if torch.cuda.is_available() else \"cpu\")\n",
    "\n",
    "\n",
    "from sklearn.preprocessing import label_binarize\n",
    "\n",
    "def plot_auc_curve_multiclass(model, dataloader, num_classes):\n",
    "    model.eval()\n",
    "    y_true = []\n",
    "    y_pred_probabilities = []\n",
    "\n",
    "    with torch.no_grad():\n",
    "        for inputs, targets in dataloader:\n",
    "            inputs = inputs.to(device)\n",
    "            outputs = model(inputs)\n",
    "            probabilities = torch.softmax(outputs, dim=1)\n",
    "            y_pred_probabilities.extend(probabilities.cpu().numpy())\n",
    "            y_true.extend(targets.cpu().numpy())\n",
    "\n",
    "    y_true = label_binarize(y_true, classes=range(num_classes))\n",
    "    y_pred_probabilities = np.array(y_pred_probabilities)\n",
    "\n",
    "    # Compute ROC curve and AUC for each class\n",
    "    fpr = dict()\n",
    "    tpr = dict()\n",
    "    roc_auc = dict()\n",
    "\n",
    "    for i in range(num_classes):\n",
    "        fpr[i], tpr[i], _ = roc_curve(y_true[:, i], y_pred_probabilities[:, i])\n",
    "        roc_auc[i] = auc(fpr[i], tpr[i])\n",
    "\n",
    "    # Plot ROC curves for each class\n",
    "    plt.figure(figsize=(8, 6))\n",
    "    for i in range(num_classes):\n",
    "        plt.plot(fpr[i], tpr[i], lw=2, label=f'ROC curve (Class {i}) (AUC = {roc_auc[i]:.2f})')\n",
    "\n",
    "    plt.plot([0, 1], [0, 1], color='red', linestyle='--')\n",
    "    plt.xlabel('False Positive Rate')\n",
    "    plt.ylabel('True Positive Rate')\n",
    "    plt.title('Receiver Operating Characteristic (ROC) Curve (Multiclass)')\n",
    "    plt.legend(loc='lower right')\n",
    "    plt.show()\n"
   ]
  },
  {
   "cell_type": "markdown",
   "metadata": {},
   "source": []
  }
 ],
 "metadata": {
  "kernelspec": {
   "display_name": "Python 3",
   "language": "python",
   "name": "python3"
  },
  "language_info": {
   "codemirror_mode": {
    "name": "ipython",
    "version": 3
   },
   "file_extension": ".py",
   "mimetype": "text/x-python",
   "name": "python",
   "nbconvert_exporter": "python",
   "pygments_lexer": "ipython3",
   "version": "3.11.6"
  }
 },
 "nbformat": 4,
 "nbformat_minor": 2
}
