{
 "cells": [
  {
   "cell_type": "code",
   "execution_count": null,
   "metadata": {},
   "outputs": [],
   "source": [
    "import os\n",
    "import torch\n",
    "import torchvision\n",
    "\n",
    "from torch.utils.data import DataLoader"
   ]
  },
  {
   "cell_type": "code",
   "execution_count": null,
   "metadata": {},
   "outputs": [],
   "source": [
    "torch.manual_seed(0)\n",
    "\n",
    "data_path = \"..\\data\"\n",
    "data = torchvision.datasets.ImageFolder(data_path, transform=torchvision.transforms.ToTensor())"
   ]
  },
  {
   "cell_type": "code",
   "execution_count": null,
   "metadata": {},
   "outputs": [],
   "source": [
    "NUM_CLASSES = len(os.listdir(data_path))\n",
    "\n",
    "train_ratio = 0.6\n",
    "val_ratio = 0.2\n",
    "test_ratio = 0.2\n",
    "\n",
    "train_size = int(train_ratio * len(data))\n",
    "val_size = int(val_ratio * len(data))\n",
    "test_size = len(data) - (train_size + val_size)\n",
    "\n",
    "train_set, val_set, test_set = torch.utils.data.random_split(data, [train_size, val_size, test_size])\n",
    "\n",
    "train_labels = [label for _, label in train_set]\n",
    "val_labels = [label for _, label in val_set]\n",
    "test_labels = [label for _, label in test_set]\n",
    "\n",
    "print('Data loaded and split into training, validation and testing datasets')"
   ]
  },
  {
   "cell_type": "code",
   "execution_count": null,
   "metadata": {},
   "outputs": [],
   "source": [
    "batch_size = 32  \n",
    "train_loader = DataLoader(train_set, batch_size=batch_size, shuffle=True)\n",
    "val_loader = DataLoader(val_set, batch_size=batch_size,shuffle=True)\n",
    "test_loader = DataLoader(test_set, batch_size=batch_size,shuffle=True)"
   ]
  }
 ],
 "metadata": {
  "language_info": {
   "name": "python"
  }
 },
 "nbformat": 4,
 "nbformat_minor": 2
}
