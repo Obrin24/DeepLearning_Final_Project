{
 "cells": [
  {
   "cell_type": "markdown",
   "metadata": {},
   "source": [
    "Importing"
   ]
  },
  {
   "cell_type": "code",
   "execution_count": 1,
   "metadata": {},
   "outputs": [],
   "source": [
    "import json\n",
    "import matplotlib.pyplot as plt\n",
    "import time\n",
    "import torch\n",
    "import torch.nn as nn\n",
    "import torch.optim as optim\n",
    "\n",
    "from sklearn.metrics import classification_report, confusion_matrix\n",
    "from tqdm import tqdm"
   ]
  },
  {
   "cell_type": "code",
   "execution_count": 2,
   "metadata": {},
   "outputs": [
    {
     "name": "stdout",
     "output_type": "stream",
     "text": [
      "Using GPU for training.\n"
     ]
    }
   ],
   "source": [
    "if torch.cuda.is_available():\n",
    "    device = torch.device(\"cuda\")\n",
    "    print(\"Using GPU for training.\")\n",
    "else:\n",
    "    device = torch.device(\"cpu\")\n",
    "    print(\"No GPU available, using CPU for training.\")"
   ]
  },
  {
   "cell_type": "code",
   "execution_count": 3,
   "metadata": {},
   "outputs": [
    {
     "name": "stdout",
     "output_type": "stream",
     "text": [
      "Data loaded and split into training, validation and testing datasets\n"
     ]
    }
   ],
   "source": [
    "%run \"src/dataloading.ipynb\"\n",
    "%run \"src/training.ipynb\"\n",
    "%run \"src/evaluate.ipynb\"\n",
    "%run \"src/visualizations.ipynb\"\n",
    "%run \"model_architectures.ipynb\""
   ]
  },
  {
   "cell_type": "markdown",
   "metadata": {},
   "source": [
    "Training"
   ]
  },
  {
   "cell_type": "code",
   "execution_count": 6,
   "metadata": {},
   "outputs": [],
   "source": [
    "model_config_file = open('configs/model_configs.json')\n",
    "model_configs = json.load(model_config_file)\n",
    "current_model_configs = model_configs[model_configs['current-model']]\n",
    "\n",
    "epochs = current_model_configs['epoch-count']\n",
    "\n",
    "match model_configs['current-model']:\n",
    "    case 'CNN':\n",
    "        model = MRI_CNN\n",
    "    case 'ResNet':\n",
    "        model = MRI_ResNet\n",
    "    case 'ResNet2':\n",
    "        model = MRI_ResNet2\n",
    "    case 'AlexNet':\n",
    "        model = MRI_AlexNet\n",
    "    case _:\n",
    "        model = MRI_CNN\n",
    "match current_model_configs['loss-function']:\n",
    "    case 'cross-entropy':\n",
    "        criterion = nn.CrossEntropyLoss()\n",
    "    case _:\n",
    "        criterion = nn.CrossEntropyLoss()\n",
    "match current_model_configs['optimizer']:\n",
    "    case 'adam':\n",
    "        optimizer = optim.Adam\n",
    "    case 'adamW':\n",
    "        optimizer = optim.AdamW\n",
    "    case _:\n",
    "        optimizer = optim.Adam\n",
    "\n",
    "model = model(**current_model_configs['model-hyperparameters']).to(device)\n",
    "optimizer = optimizer(model.parameters(), lr=current_model_configs['optimizer-lr'])"
   ]
  },
  {
   "cell_type": "code",
   "execution_count": 7,
   "metadata": {},
   "outputs": [
    {
     "name": "stderr",
     "output_type": "stream",
     "text": [
      "Training:  10%|█         | 1/10 [00:17<02:36, 17.41s/epoch]"
     ]
    },
    {
     "name": "stdout",
     "output_type": "stream",
     "text": [
      "Epoch [1/10] Train Loss: 1.3069 Train Accuracy: 40.71% Validation Loss: 1.3122 Validation Accuracy: 43.78%\n"
     ]
    },
    {
     "name": "stderr",
     "output_type": "stream",
     "text": [
      "Training:  20%|██        | 2/10 [00:30<01:58, 14.86s/epoch]"
     ]
    },
    {
     "name": "stdout",
     "output_type": "stream",
     "text": [
      "Epoch [2/10] Train Loss: 0.9458 Train Accuracy: 60.53% Validation Loss: 0.9231 Validation Accuracy: 60.58%\n"
     ]
    },
    {
     "name": "stderr",
     "output_type": "stream",
     "text": [
      "Training:  30%|███       | 3/10 [00:41<01:33, 13.32s/epoch]"
     ]
    },
    {
     "name": "stdout",
     "output_type": "stream",
     "text": [
      "Epoch [3/10] Train Loss: 0.7486 Train Accuracy: 70.01% Validation Loss: 0.7273 Validation Accuracy: 71.73%\n"
     ]
    },
    {
     "name": "stderr",
     "output_type": "stream",
     "text": [
      "Training:  40%|████      | 4/10 [00:53<01:15, 12.52s/epoch]"
     ]
    },
    {
     "name": "stdout",
     "output_type": "stream",
     "text": [
      "Epoch [4/10] Train Loss: 0.5188 Train Accuracy: 79.38% Validation Loss: 0.7880 Validation Accuracy: 69.79%\n"
     ]
    },
    {
     "name": "stderr",
     "output_type": "stream",
     "text": [
      "Training:  50%|█████     | 5/10 [01:04<01:00, 12.10s/epoch]"
     ]
    },
    {
     "name": "stdout",
     "output_type": "stream",
     "text": [
      "Epoch [5/10] Train Loss: 0.3311 Train Accuracy: 87.51% Validation Loss: 0.7609 Validation Accuracy: 76.09%\n"
     ]
    },
    {
     "name": "stderr",
     "output_type": "stream",
     "text": [
      "Training:  60%|██████    | 6/10 [01:16<00:47, 11.96s/epoch]"
     ]
    },
    {
     "name": "stdout",
     "output_type": "stream",
     "text": [
      "Epoch [6/10] Train Loss: 0.2076 Train Accuracy: 93.05% Validation Loss: 0.8536 Validation Accuracy: 75.12%\n"
     ]
    },
    {
     "name": "stderr",
     "output_type": "stream",
     "text": [
      "Training:  70%|███████   | 7/10 [01:28<00:36, 12.06s/epoch]"
     ]
    },
    {
     "name": "stdout",
     "output_type": "stream",
     "text": [
      "Epoch [7/10] Train Loss: 0.1157 Train Accuracy: 95.91% Validation Loss: 0.7382 Validation Accuracy: 79.00%\n"
     ]
    },
    {
     "name": "stderr",
     "output_type": "stream",
     "text": [
      "Training:  80%|████████  | 8/10 [01:39<00:23, 11.76s/epoch]"
     ]
    },
    {
     "name": "stdout",
     "output_type": "stream",
     "text": [
      "Epoch [8/10] Train Loss: 0.0759 Train Accuracy: 97.04% Validation Loss: 0.9063 Validation Accuracy: 79.16%\n"
     ]
    },
    {
     "name": "stderr",
     "output_type": "stream",
     "text": [
      "Training:  90%|█████████ | 9/10 [01:50<00:11, 11.55s/epoch]"
     ]
    },
    {
     "name": "stdout",
     "output_type": "stream",
     "text": [
      "Epoch [9/10] Train Loss: 0.0528 Train Accuracy: 98.44% Validation Loss: 0.9578 Validation Accuracy: 80.29%\n"
     ]
    },
    {
     "name": "stderr",
     "output_type": "stream",
     "text": [
      "Training: 100%|██████████| 10/10 [02:02<00:00, 12.26s/epoch]"
     ]
    },
    {
     "name": "stdout",
     "output_type": "stream",
     "text": [
      "Epoch [10/10] Train Loss: 0.0284 Train Accuracy: 99.35% Validation Loss: 0.9982 Validation Accuracy: 79.97%\n"
     ]
    },
    {
     "name": "stderr",
     "output_type": "stream",
     "text": [
      "\n"
     ]
    }
   ],
   "source": [
    "for epoch in tqdm(range(epochs), desc=\"Training\", unit=\"epoch\"):\n",
    "    train_loss, train_accuracy, train_labels, train_preds = train(model, train_loader=train_loader,optimizer=optimizer, criterion=criterion, device=device)\n",
    "    val_loss, val_accuracy, val_labels, val_preds = evaluate(model, val_loader, criterion=criterion, device=device)\n",
    "\n",
    "    tqdm.write(\n",
    "        f\"Epoch [{epoch + 1}/{epochs}] \"\n",
    "        f\"Train Loss: {train_loss:.4f} \"\n",
    "        f\"Train Accuracy: {train_accuracy * 100:.2f}% \"\n",
    "        f\"Validation Loss: {val_loss:.4f} \"\n",
    "        f\"Validation Accuracy: {val_accuracy * 100:.2f}%\"\n",
    "    )\n"
   ]
  },
  {
   "cell_type": "code",
   "execution_count": 8,
   "metadata": {},
   "outputs": [
    {
     "name": "stderr",
     "output_type": "stream",
     "text": [
      "Testing:  10%|█         | 1/10 [00:01<00:13,  1.45s/epoch]"
     ]
    },
    {
     "name": "stdout",
     "output_type": "stream",
     "text": [
      "Testing Epoch [1/10] Test Loss: 1.0295 Test Accuracy: 78.06% Time per Epoch: 1.44 seconds\n"
     ]
    },
    {
     "name": "stderr",
     "output_type": "stream",
     "text": [
      "Testing:  20%|██        | 2/10 [00:02<00:11,  1.46s/epoch]"
     ]
    },
    {
     "name": "stdout",
     "output_type": "stream",
     "text": [
      "Testing Epoch [2/10] Test Loss: 1.0524 Test Accuracy: 78.06% Time per Epoch: 1.46 seconds\n"
     ]
    },
    {
     "name": "stderr",
     "output_type": "stream",
     "text": [
      "Testing:  30%|███       | 3/10 [00:04<00:10,  1.45s/epoch]"
     ]
    },
    {
     "name": "stdout",
     "output_type": "stream",
     "text": [
      "Testing Epoch [3/10] Test Loss: 1.0582 Test Accuracy: 78.06% Time per Epoch: 1.44 seconds\n"
     ]
    },
    {
     "name": "stderr",
     "output_type": "stream",
     "text": [
      "Testing:  40%|████      | 4/10 [00:05<00:08,  1.43s/epoch]"
     ]
    },
    {
     "name": "stdout",
     "output_type": "stream",
     "text": [
      "Testing Epoch [4/10] Test Loss: 1.0301 Test Accuracy: 78.06% Time per Epoch: 1.40 seconds\n"
     ]
    },
    {
     "name": "stderr",
     "output_type": "stream",
     "text": [
      "Testing:  50%|█████     | 5/10 [00:07<00:07,  1.42s/epoch]"
     ]
    },
    {
     "name": "stdout",
     "output_type": "stream",
     "text": [
      "Testing Epoch [5/10] Test Loss: 1.0238 Test Accuracy: 78.06% Time per Epoch: 1.40 seconds\n"
     ]
    },
    {
     "name": "stderr",
     "output_type": "stream",
     "text": [
      "Testing:  60%|██████    | 6/10 [00:08<00:05,  1.42s/epoch]"
     ]
    },
    {
     "name": "stdout",
     "output_type": "stream",
     "text": [
      "Testing Epoch [6/10] Test Loss: 1.0436 Test Accuracy: 78.06% Time per Epoch: 1.41 seconds\n"
     ]
    },
    {
     "name": "stderr",
     "output_type": "stream",
     "text": [
      "Testing:  70%|███████   | 7/10 [00:09<00:04,  1.42s/epoch]"
     ]
    },
    {
     "name": "stdout",
     "output_type": "stream",
     "text": [
      "Testing Epoch [7/10] Test Loss: 1.0232 Test Accuracy: 78.06% Time per Epoch: 1.41 seconds\n"
     ]
    },
    {
     "name": "stderr",
     "output_type": "stream",
     "text": [
      "Testing:  80%|████████  | 8/10 [00:11<00:02,  1.42s/epoch]"
     ]
    },
    {
     "name": "stdout",
     "output_type": "stream",
     "text": [
      "Testing Epoch [8/10] Test Loss: 1.0294 Test Accuracy: 78.06% Time per Epoch: 1.42 seconds\n"
     ]
    },
    {
     "name": "stderr",
     "output_type": "stream",
     "text": [
      "Testing:  90%|█████████ | 9/10 [00:12<00:01,  1.42s/epoch]"
     ]
    },
    {
     "name": "stdout",
     "output_type": "stream",
     "text": [
      "Testing Epoch [9/10] Test Loss: 1.0347 Test Accuracy: 78.06% Time per Epoch: 1.43 seconds\n"
     ]
    },
    {
     "name": "stderr",
     "output_type": "stream",
     "text": [
      "Testing: 100%|██████████| 10/10 [00:14<00:00,  1.44s/epoch]"
     ]
    },
    {
     "name": "stdout",
     "output_type": "stream",
     "text": [
      "Testing Epoch [10/10] Test Loss: 1.0792 Test Accuracy: 78.06% Time per Epoch: 1.54 seconds\n",
      "Average Test Loss: 1.0404\n",
      "Average Test Accuracy: 78.06%\n"
     ]
    },
    {
     "name": "stderr",
     "output_type": "stream",
     "text": [
      "\n"
     ]
    }
   ],
   "source": [
    "test_losses = []\n",
    "test_accuracies = []\n",
    "for epoch in tqdm(range(epochs), desc=\"Testing\", unit=\"epoch\"):\n",
    "    start_time = time.time()\n",
    "    test_loss, test_accuracy, test_labels, test_preds = evaluate(model, test_loader, criterion=criterion, device=device)\n",
    "    end_time = time.time()\n",
    "\n",
    "    epoch_time = end_time - start_time\n",
    "\n",
    "    test_losses.append(test_loss)\n",
    "    test_accuracies.append(test_accuracy)\n",
    "\n",
    "    tqdm.write(\n",
    "        f\"Testing Epoch [{epoch + 1}/{epochs}] \"\n",
    "        f\"Test Loss: {test_loss:.4f} \"\n",
    "        f\"Test Accuracy: {test_accuracy * 100:.2f}% \"\n",
    "        f\"Time per Epoch: {epoch_time:.2f} seconds\"\n",
    "    )\n",
    "\n",
    "avg_test_loss = sum(test_losses) / len(test_losses)\n",
    "avg_test_accuracy = sum(test_accuracies) / len(test_accuracies)\n",
    "print(f\"Average Test Loss: {avg_test_loss:.4f}\")\n",
    "print(f\"Average Test Accuracy: {avg_test_accuracy * 100:.2f}%\")"
   ]
  },
  {
   "cell_type": "markdown",
   "metadata": {},
   "source": [
    "Model Classification:"
   ]
  },
  {
   "cell_type": "code",
   "execution_count": 9,
   "metadata": {},
   "outputs": [
    {
     "name": "stdout",
     "output_type": "stream",
     "text": [
      "              precision    recall  f1-score   support\n",
      "\n",
      "           0       0.99      0.99      0.99       546\n",
      "           1       0.99      0.99      0.99       560\n",
      "           2       0.99      0.99      0.99       254\n",
      "           3       1.00      1.00      1.00       497\n",
      "\n",
      "    accuracy                           0.99      1857\n",
      "   macro avg       0.99      0.99      0.99      1857\n",
      "weighted avg       0.99      0.99      0.99      1857\n",
      "\n",
      "              precision    recall  f1-score   support\n",
      "\n",
      "           0       0.85      0.74      0.79       169\n",
      "           1       0.74      0.70      0.72       175\n",
      "           2       0.74      0.84      0.78        97\n",
      "           3       0.85      0.94      0.89       178\n",
      "\n",
      "    accuracy                           0.80       619\n",
      "   macro avg       0.79      0.80      0.80       619\n",
      "weighted avg       0.80      0.80      0.80       619\n",
      "\n",
      "              precision    recall  f1-score   support\n",
      "\n",
      "           0       0.84      0.74      0.78       186\n",
      "           1       0.72      0.69      0.70       178\n",
      "           2       0.72      0.84      0.77        87\n",
      "           3       0.83      0.90      0.86       169\n",
      "\n",
      "    accuracy                           0.78       620\n",
      "   macro avg       0.77      0.79      0.78       620\n",
      "weighted avg       0.78      0.78      0.78       620\n",
      "\n"
     ]
    },
    {
     "data": {
      "image/png": "[encoded data removed]",
      "text/plain": [
       "<Figure size 800x600 with 2 Axes>"
      ]
     },
     "metadata": {},
     "output_type": "display_data"
    },
    {
     "data": {
      "image/png": "[encoded data removed]",
      "text/plain": [
       "<Figure size 800x600 with 2 Axes>"
      ]
     },
     "metadata": {},
     "output_type": "display_data"
    },
    {
     "data": {
      "image/png": "[encoded data removed]",
      "text/plain": [
       "<Figure size 800x600 with 2 Axes>"
      ]
     },
     "metadata": {},
     "output_type": "display_data"
    }
   ],
   "source": [
    "confusion_train = confusion_matrix(train_labels, train_preds)\n",
    "confusion_val = confusion_matrix(val_labels, val_preds)\n",
    "confusion_test = confusion_matrix(test_labels, test_preds)\n",
    "\n",
    "print(classification_report(train_labels, train_preds))\n",
    "print(classification_report(val_labels, val_preds))\n",
    "print(classification_report(test_labels, test_preds))\n",
    "\n",
    "class_names = [str(i) for i in range(NUM_CLASSES)]  # Update with your class names\n",
    "plot_confusion_matrix(confusion_train, class_names, title='Train Confusion Matrix')\n",
    "plot_confusion_matrix(confusion_val, class_names, title='Validation Confusion Matrix')\n",
    "plot_confusion_matrix(confusion_test, class_names, title='Test Confusion Matrix')\n",
    "\n",
    "plt.show()"
   ]
  }
 ],
 "metadata": {
  "kernelspec": {
   "display_name": "Python 3",
   "language": "python",
   "name": "python3"
  },
  "language_info": {
   "codemirror_mode": {
    "name": "ipython",
    "version": 3
   },
   "file_extension": ".py",
   "mimetype": "text/x-python",
   "name": "python",
   "nbconvert_exporter": "python",
   "pygments_lexer": "ipython3",
   "version": "3.11.5"
  }
 },
 "nbformat": 4,
 "nbformat_minor": 2
}
