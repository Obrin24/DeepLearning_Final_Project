{
 "cells": [
  {
   "cell_type": "markdown",
   "metadata": {},
   "source": [
    "Importing"
   ]
  },
  {
   "cell_type": "code",
   "execution_count": 1,
   "metadata": {},
   "outputs": [],
   "source": [
    "import json\n",
    "import matplotlib.pyplot as plt\n",
    "import time\n",
    "import torch\n",
    "import torch.nn as nn\n",
    "import torch.optim as optim\n",
    "\n",
    "from sklearn.metrics import classification_report, confusion_matrix\n",
    "from tqdm import tqdm"
   ]
  },
  {
   "cell_type": "code",
   "execution_count": 2,
   "metadata": {},
   "outputs": [
    {
     "name": "stdout",
     "output_type": "stream",
     "text": [
      "Using GPU for training.\n"
     ]
    }
   ],
   "source": [
    "if torch.cuda.is_available():\n",
    "    device = torch.device(\"cuda\")\n",
    "    print(\"Using GPU for training.\")\n",
    "else:\n",
    "    device = torch.device(\"cpu\")\n",
    "    print(\"No GPU available, using CPU for training.\")"
   ]
  },
  {
   "cell_type": "code",
   "execution_count": 12,
   "metadata": {},
   "outputs": [
    {
     "name": "stdout",
     "output_type": "stream",
     "text": [
      "Data loaded and split into training, validation and testing datasets\n"
     ]
    }
   ],
   "source": [
    "%run \"src/dataloading.ipynb\"\n",
    "%run \"src/training.ipynb\"\n",
    "%run \"src/evaluate.ipynb\"\n",
    "%run \"src/visualizations.ipynb\"\n",
    "%run \"model_architectures.ipynb\""
   ]
  },
  {
   "cell_type": "markdown",
   "metadata": {},
   "source": [
    "Training"
   ]
  },
  {
   "cell_type": "code",
   "execution_count": 13,
   "metadata": {},
   "outputs": [],
   "source": [
    "model_config_file = open('configs/model_configs.json')\n",
    "model_configs = json.load(model_config_file)\n",
    "\n",
    "epochs = model_configs['epoch-count']\n",
    "optimizer_lr = model_configs['optimizer-lr']\n",
    "\n",
    "match model_configs['model-architecture']:\n",
    "    case 'CNN':\n",
    "        model = MRI_CNN(**model_configs['cnn-model-hyperparameters'])\n",
    "    case _:\n",
    "        model = MRI_CNN(**model_configs['cnn-model-hyperparameters'])\n",
    "match model_configs['loss-function']:\n",
    "    case 'cross-entropy':\n",
    "        criterion = nn.CrossEntropyLoss()\n",
    "    case _:\n",
    "        criterion = nn.CrossEntropyLoss()\n",
    "match model_configs['optimizer']:\n",
    "    case 'adam':\n",
    "        optimizer = optim.Adam(model.parameters(), lr=optimizer_lr)\n",
    "    case _:\n",
    "        optimizer = optim.Adam(model.parameters(), lr=optimizer_lr)\n",
    "\n",
    "model = model.to(device)"
   ]
  },
  {
   "cell_type": "code",
   "execution_count": 14,
   "metadata": {},
   "outputs": [
    {
     "name": "stderr",
     "output_type": "stream",
     "text": [
      "Training:  10%|█         | 1/10 [00:13<02:05, 13.98s/epoch]"
     ]
    },
    {
     "name": "stdout",
     "output_type": "stream",
     "text": [
      "Epoch [1/10] Train Loss: 1.3122 Train Accuracy: 41.14% Validation Loss: 1.3203 Validation Accuracy: 40.06%\n"
     ]
    },
    {
     "name": "stderr",
     "output_type": "stream",
     "text": [
      "Training:  20%|██        | 2/10 [00:25<01:38, 12.34s/epoch]"
     ]
    },
    {
     "name": "stdout",
     "output_type": "stream",
     "text": [
      "Epoch [2/10] Train Loss: 1.0059 Train Accuracy: 57.78% Validation Loss: 0.9260 Validation Accuracy: 59.94%\n"
     ]
    },
    {
     "name": "stderr",
     "output_type": "stream",
     "text": [
      "Training:  30%|███       | 3/10 [00:36<01:22, 11.75s/epoch]"
     ]
    },
    {
     "name": "stdout",
     "output_type": "stream",
     "text": [
      "Epoch [3/10] Train Loss: 0.7357 Train Accuracy: 70.54% Validation Loss: 0.7144 Validation Accuracy: 72.37%\n"
     ]
    },
    {
     "name": "stderr",
     "output_type": "stream",
     "text": [
      "Training:  40%|████      | 4/10 [00:47<01:08, 11.48s/epoch]"
     ]
    },
    {
     "name": "stdout",
     "output_type": "stream",
     "text": [
      "Epoch [4/10] Train Loss: 0.4272 Train Accuracy: 83.47% Validation Loss: 0.8274 Validation Accuracy: 66.56%\n"
     ]
    },
    {
     "name": "stderr",
     "output_type": "stream",
     "text": [
      "Training:  50%|█████     | 5/10 [00:58<00:57, 11.43s/epoch]"
     ]
    },
    {
     "name": "stdout",
     "output_type": "stream",
     "text": [
      "Epoch [5/10] Train Loss: 0.2366 Train Accuracy: 90.95% Validation Loss: 0.8457 Validation Accuracy: 75.28%\n"
     ]
    },
    {
     "name": "stderr",
     "output_type": "stream",
     "text": [
      "Training:  60%|██████    | 6/10 [01:09<00:45, 11.40s/epoch]"
     ]
    },
    {
     "name": "stdout",
     "output_type": "stream",
     "text": [
      "Epoch [6/10] Train Loss: 0.1094 Train Accuracy: 96.77% Validation Loss: 0.9303 Validation Accuracy: 78.84%\n"
     ]
    },
    {
     "name": "stderr",
     "output_type": "stream",
     "text": [
      "Training:  70%|███████   | 7/10 [01:22<00:35, 11.69s/epoch]"
     ]
    },
    {
     "name": "stdout",
     "output_type": "stream",
     "text": [
      "Epoch [7/10] Train Loss: 0.0476 Train Accuracy: 98.33% Validation Loss: 0.9345 Validation Accuracy: 79.00%\n"
     ]
    },
    {
     "name": "stderr",
     "output_type": "stream",
     "text": [
      "Training:  80%|████████  | 8/10 [01:35<00:24, 12.08s/epoch]"
     ]
    },
    {
     "name": "stdout",
     "output_type": "stream",
     "text": [
      "Epoch [8/10] Train Loss: 0.0307 Train Accuracy: 98.98% Validation Loss: 1.0132 Validation Accuracy: 77.87%\n"
     ]
    },
    {
     "name": "stderr",
     "output_type": "stream",
     "text": [
      "Training:  90%|█████████ | 9/10 [01:48<00:12, 12.39s/epoch]"
     ]
    },
    {
     "name": "stdout",
     "output_type": "stream",
     "text": [
      "Epoch [9/10] Train Loss: 0.1081 Train Accuracy: 95.85% Validation Loss: 0.9735 Validation Accuracy: 79.48%\n"
     ]
    },
    {
     "name": "stderr",
     "output_type": "stream",
     "text": [
      "Training: 100%|██████████| 10/10 [02:00<00:00, 12.07s/epoch]"
     ]
    },
    {
     "name": "stdout",
     "output_type": "stream",
     "text": [
      "Epoch [10/10] Train Loss: 0.0395 Train Accuracy: 98.82% Validation Loss: 1.0788 Validation Accuracy: 75.77%\n"
     ]
    },
    {
     "name": "stderr",
     "output_type": "stream",
     "text": [
      "\n"
     ]
    }
   ],
   "source": [
    "for epoch in tqdm(range(epochs), desc=\"Training\", unit=\"epoch\"):\n",
    "    train_loss, train_accuracy, train_labels, train_preds = train(model, train_loader=train_loader,optimizer=optimizer, criterion=criterion, device=device)\n",
    "    val_loss, val_accuracy, val_labels, val_preds = evaluate(model, val_loader, criterion=criterion, device=device)\n",
    "\n",
    "    tqdm.write(\n",
    "        f\"Epoch [{epoch + 1}/{epochs}] \"\n",
    "        f\"Train Loss: {train_loss:.4f} \"\n",
    "        f\"Train Accuracy: {train_accuracy * 100:.2f}% \"\n",
    "        f\"Validation Loss: {val_loss:.4f} \"\n",
    "        f\"Validation Accuracy: {val_accuracy * 100:.2f}%\"\n",
    "    )\n"
   ]
  },
  {
   "cell_type": "code",
   "execution_count": 15,
   "metadata": {},
   "outputs": [
    {
     "name": "stderr",
     "output_type": "stream",
     "text": [
      "Testing:  10%|█         | 1/10 [00:01<00:12,  1.40s/epoch]"
     ]
    },
    {
     "name": "stdout",
     "output_type": "stream",
     "text": [
      "Testing Epoch [1/10] Test Loss: 1.0939 Test Accuracy: 75.48% Time per Epoch: 1.40 seconds\n"
     ]
    },
    {
     "name": "stderr",
     "output_type": "stream",
     "text": [
      "Testing:  20%|██        | 2/10 [00:02<00:11,  1.39s/epoch]"
     ]
    },
    {
     "name": "stdout",
     "output_type": "stream",
     "text": [
      "Testing Epoch [2/10] Test Loss: 1.1257 Test Accuracy: 75.48% Time per Epoch: 1.38 seconds\n"
     ]
    },
    {
     "name": "stderr",
     "output_type": "stream",
     "text": [
      "Testing:  30%|███       | 3/10 [00:04<00:09,  1.38s/epoch]"
     ]
    },
    {
     "name": "stdout",
     "output_type": "stream",
     "text": [
      "Testing Epoch [3/10] Test Loss: 1.1482 Test Accuracy: 75.48% Time per Epoch: 1.36 seconds\n"
     ]
    },
    {
     "name": "stderr",
     "output_type": "stream",
     "text": [
      "Testing:  40%|████      | 4/10 [00:05<00:08,  1.37s/epoch]"
     ]
    },
    {
     "name": "stdout",
     "output_type": "stream",
     "text": [
      "Testing Epoch [4/10] Test Loss: 1.0931 Test Accuracy: 75.48% Time per Epoch: 1.37 seconds\n"
     ]
    },
    {
     "name": "stderr",
     "output_type": "stream",
     "text": [
      "Testing:  50%|█████     | 5/10 [00:06<00:06,  1.37s/epoch]"
     ]
    },
    {
     "name": "stdout",
     "output_type": "stream",
     "text": [
      "Testing Epoch [5/10] Test Loss: 1.0913 Test Accuracy: 75.48% Time per Epoch: 1.36 seconds\n"
     ]
    },
    {
     "name": "stderr",
     "output_type": "stream",
     "text": [
      "Testing:  60%|██████    | 6/10 [00:08<00:05,  1.36s/epoch]"
     ]
    },
    {
     "name": "stdout",
     "output_type": "stream",
     "text": [
      "Testing Epoch [6/10] Test Loss: 1.0946 Test Accuracy: 75.48% Time per Epoch: 1.33 seconds\n"
     ]
    },
    {
     "name": "stderr",
     "output_type": "stream",
     "text": [
      "Testing:  70%|███████   | 7/10 [00:09<00:04,  1.36s/epoch]"
     ]
    },
    {
     "name": "stdout",
     "output_type": "stream",
     "text": [
      "Testing Epoch [7/10] Test Loss: 1.1009 Test Accuracy: 75.48% Time per Epoch: 1.36 seconds\n"
     ]
    },
    {
     "name": "stderr",
     "output_type": "stream",
     "text": [
      "Testing:  80%|████████  | 8/10 [00:10<00:02,  1.36s/epoch]"
     ]
    },
    {
     "name": "stdout",
     "output_type": "stream",
     "text": [
      "Testing Epoch [8/10] Test Loss: 1.0937 Test Accuracy: 75.48% Time per Epoch: 1.37 seconds\n"
     ]
    },
    {
     "name": "stderr",
     "output_type": "stream",
     "text": [
      "Testing:  90%|█████████ | 9/10 [00:12<00:01,  1.35s/epoch]"
     ]
    },
    {
     "name": "stdout",
     "output_type": "stream",
     "text": [
      "Testing Epoch [9/10] Test Loss: 1.1160 Test Accuracy: 75.48% Time per Epoch: 1.33 seconds\n"
     ]
    },
    {
     "name": "stderr",
     "output_type": "stream",
     "text": [
      "Testing: 100%|██████████| 10/10 [00:13<00:00,  1.36s/epoch]"
     ]
    },
    {
     "name": "stdout",
     "output_type": "stream",
     "text": [
      "Testing Epoch [10/10] Test Loss: 1.1648 Test Accuracy: 75.48% Time per Epoch: 1.35 seconds\n",
      "Average Test Loss: 1.1122\n",
      "Average Test Accuracy: 75.48%\n"
     ]
    },
    {
     "name": "stderr",
     "output_type": "stream",
     "text": [
      "\n"
     ]
    }
   ],
   "source": [
    "test_losses = []\n",
    "test_accuracies = []\n",
    "for epoch in tqdm(range(epochs), desc=\"Testing\", unit=\"epoch\"):\n",
    "    start_time = time.time()\n",
    "    test_loss, test_accuracy, test_labels, test_preds = evaluate(model, test_loader, criterion=criterion, device=device)\n",
    "    end_time = time.time()\n",
    "\n",
    "    epoch_time = end_time - start_time\n",
    "\n",
    "    test_losses.append(test_loss)\n",
    "    test_accuracies.append(test_accuracy)\n",
    "\n",
    "    tqdm.write(\n",
    "        f\"Testing Epoch [{epoch + 1}/{epochs}] \"\n",
    "        f\"Test Loss: {test_loss:.4f} \"\n",
    "        f\"Test Accuracy: {test_accuracy * 100:.2f}% \"\n",
    "        f\"Time per Epoch: {epoch_time:.2f} seconds\"\n",
    "    )\n",
    "\n",
    "avg_test_loss = sum(test_losses) / len(test_losses)\n",
    "avg_test_accuracy = sum(test_accuracies) / len(test_accuracies)\n",
    "print(f\"Average Test Loss: {avg_test_loss:.4f}\")\n",
    "print(f\"Average Test Accuracy: {avg_test_accuracy * 100:.2f}%\")"
   ]
  },
  {
   "cell_type": "markdown",
   "metadata": {},
   "source": [
    "Model Classification:"
   ]
  },
  {
   "cell_type": "code",
   "execution_count": 16,
   "metadata": {},
   "outputs": [
    {
     "name": "stdout",
     "output_type": "stream",
     "text": [
      "              precision    recall  f1-score   support\n",
      "\n",
      "           0       0.99      0.98      0.99       546\n",
      "           1       0.98      0.99      0.98       560\n",
      "           2       0.98      0.98      0.98       254\n",
      "           3       1.00      1.00      1.00       497\n",
      "\n",
      "    accuracy                           0.99      1857\n",
      "   macro avg       0.99      0.99      0.99      1857\n",
      "weighted avg       0.99      0.99      0.99      1857\n",
      "\n",
      "              precision    recall  f1-score   support\n",
      "\n",
      "           0       0.84      0.67      0.75       169\n",
      "           1       0.62      0.78      0.69       175\n",
      "           2       0.69      0.84      0.75        97\n",
      "           3       0.95      0.78      0.85       178\n",
      "\n",
      "    accuracy                           0.76       619\n",
      "   macro avg       0.77      0.77      0.76       619\n",
      "weighted avg       0.78      0.76      0.76       619\n",
      "\n",
      "              precision    recall  f1-score   support\n",
      "\n",
      "           0       0.84      0.63      0.72       186\n",
      "           1       0.63      0.80      0.70       178\n",
      "           2       0.68      0.87      0.77        87\n",
      "           3       0.94      0.78      0.85       169\n",
      "\n",
      "    accuracy                           0.75       620\n",
      "   macro avg       0.77      0.77      0.76       620\n",
      "weighted avg       0.78      0.75      0.76       620\n",
      "\n"
     ]
    },
    {
     "data": {
      "image/png": "[encoded data removed]",
      "text/plain": [
       "<Figure size 800x600 with 2 Axes>"
      ]
     },
     "metadata": {},
     "output_type": "display_data"
    },
    {
     "data": {
      "image/png": "[encoded data removed]",
      "text/plain": [
       "<Figure size 800x600 with 2 Axes>"
      ]
     },
     "metadata": {},
     "output_type": "display_data"
    },
    {
     "data": {
      "image/png": "[encoded data removed]",
      "text/plain": [
       "<Figure size 800x600 with 2 Axes>"
      ]
     },
     "metadata": {},
     "output_type": "display_data"
    }
   ],
   "source": [
    "confusion_train = confusion_matrix(train_labels, train_preds)\n",
    "confusion_val = confusion_matrix(val_labels, val_preds)\n",
    "confusion_test = confusion_matrix(test_labels, test_preds)\n",
    "\n",
    "print(classification_report(train_labels, train_preds))\n",
    "print(classification_report(val_labels, val_preds))\n",
    "print(classification_report(test_labels, test_preds))\n",
    "\n",
    "class_names = [str(i) for i in range(NUM_CLASSES)]  # Update with your class names\n",
    "plot_confusion_matrix(confusion_train, class_names, title='Train Confusion Matrix')\n",
    "plot_confusion_matrix(confusion_val, class_names, title='Validation Confusion Matrix')\n",
    "plot_confusion_matrix(confusion_test, class_names, title='Test Confusion Matrix')\n",
    "\n",
    "plt.show()"
   ]
  }
 ],
 "metadata": {
  "kernelspec": {
   "display_name": "Python 3",
   "language": "python",
   "name": "python3"
  },
  "language_info": {
   "codemirror_mode": {
    "name": "ipython",
    "version": 3
   },
   "file_extension": ".py",
   "mimetype": "text/x-python",
   "name": "python",
   "nbconvert_exporter": "python",
   "pygments_lexer": "ipython3",
   "version": "3.11.5"
  }
 },
 "nbformat": 4,
 "nbformat_minor": 2
}
