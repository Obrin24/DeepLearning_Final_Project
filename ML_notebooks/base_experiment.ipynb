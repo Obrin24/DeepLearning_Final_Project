{
 "cells": [
  {
   "cell_type": "markdown",
   "metadata": {},
   "source": [
    "Importing:"
   ]
  },
  {
   "cell_type": "code",
   "execution_count": 1,
   "metadata": {},
   "outputs": [],
   "source": [
    "import json\n",
    "import matplotlib.pyplot as plt\n",
    "import time\n",
    "import torch\n",
    "import torch.nn as nn\n",
    "import torch.optim as optim\n",
    "\n",
    "from sklearn.metrics import classification_report, confusion_matrix\n",
    "from tqdm import tqdm"
   ]
  },
  {
   "cell_type": "code",
   "execution_count": 2,
   "metadata": {},
   "outputs": [
    {
     "name": "stdout",
     "output_type": "stream",
     "text": [
      "Using GPU for training.\n"
     ]
    }
   ],
   "source": [
    "if torch.cuda.is_available():\n",
    "    device = torch.device(\"cuda\")\n",
    "    print(\"Using GPU for training.\")\n",
    "else:\n",
    "    device = torch.device(\"cpu\")\n",
    "    print(\"No GPU available, using CPU for training.\")"
   ]
  },
  {
   "cell_type": "code",
   "execution_count": 3,
   "metadata": {},
   "outputs": [
    {
     "name": "stdout",
     "output_type": "stream",
     "text": [
      "Data loaded and split into training, validation and testing datasets\n"
     ]
    }
   ],
   "source": [
    "%run \"../DL_notebooks/src/dataloading.ipynb\"\n",
    "%run \"../DL_notebooks/src/training.ipynb\"\n",
    "%run \"../DL_notebooks/src/evaluate.ipynb\"\n",
    "%run \"../DL_notebooks/src/visualizations.ipynb\"\n",
    "%run \"../DL_notebooks/model_architectures.ipynb\"\n",
    "\n"
   ]
  },
  {
   "cell_type": "markdown",
   "metadata": {},
   "source": [
    "Training:"
   ]
  },
  {
   "cell_type": "code",
   "execution_count": null,
   "metadata": {},
   "outputs": [],
   "source": [
    "def update_current_model(json_file, new_model_name):\n",
    "    # Load the JSON data from the file\n",
    "    with open(json_file, 'r') as file:\n",
    "        data = json.load(file)\n",
    "\n",
    "    # Update the current-model value\n",
    "    data['current-model'] = new_model_name\n",
    "\n",
    "    # Save the updated JSON data back to the file\n",
    "    with open(json_file, 'w') as file:\n",
    "        json.dump(data, file, indent=4)\n",
    "json_file_path = '../DL_notebooks/configs/model_configs.json'\n",
    "new_model_name = 'CNN'\n",
    "update_current_model(json_file_path, new_model_name)"
   ]
  },
  {
   "cell_type": "code",
   "execution_count": 4,
   "metadata": {},
   "outputs": [],
   "source": [
    "model_config_file = open('../DL_notebooks/configs/model_configs.json')\n",
    "model_configs = json.load(model_config_file)\n",
    "current_model_configs = model_configs[model_configs['current-model']]\n",
    "\n",
    "epochs = current_model_configs['epoch-count']\n",
    "\n",
    "match model_configs['current-model']:\n",
    "    case 'CNN':\n",
    "        model = MRI_CNN\n",
    "match current_model_configs['loss-function']:\n",
    "    case 'cross-entropy':\n",
    "        criterion = nn.CrossEntropyLoss()\n",
    "    case _:\n",
    "        criterion = nn.CrossEntropyLoss()\n",
    "match current_model_configs['optimizer']:\n",
    "    case 'adam':\n",
    "        optimizer = optim.Adam\n",
    "    case 'adamW':\n",
    "        optimizer = optim.AdamW\n",
    "    case _:\n",
    "        optimizer = optim.Adam\n",
    "\n",
    "model = model(**current_model_configs['model-hyperparameters']).to(device)\n",
    "optimizer = optimizer(model.parameters(), lr=current_model_configs['optimizer-lr'])"
   ]
  },
  {
   "cell_type": "code",
   "execution_count": 5,
   "metadata": {},
   "outputs": [
    {
     "name": "stderr",
     "output_type": "stream",
     "text": [
      "Training:  10%|█         | 1/10 [00:12<01:56, 12.90s/epoch]"
     ]
    },
    {
     "name": "stdout",
     "output_type": "stream",
     "text": [
      "Epoch [1/10] Train Loss: 1.3117 Train Accuracy: 40.23% Validation Loss: 1.3628 Validation Accuracy: 39.42%\n"
     ]
    },
    {
     "name": "stderr",
     "output_type": "stream",
     "text": [
      "Training:  20%|██        | 2/10 [00:21<01:24, 10.56s/epoch]"
     ]
    },
    {
     "name": "stdout",
     "output_type": "stream",
     "text": [
      "Epoch [2/10] Train Loss: 1.0033 Train Accuracy: 59.72% Validation Loss: 0.9661 Validation Accuracy: 56.38%\n"
     ]
    },
    {
     "name": "stderr",
     "output_type": "stream",
     "text": [
      "Training:  30%|███       | 3/10 [00:27<00:59,  8.46s/epoch]"
     ]
    },
    {
     "name": "stdout",
     "output_type": "stream",
     "text": [
      "Epoch [3/10] Train Loss: 0.7646 Train Accuracy: 67.96% Validation Loss: 0.7598 Validation Accuracy: 68.34%\n"
     ]
    },
    {
     "name": "stderr",
     "output_type": "stream",
     "text": [
      "Training:  40%|████      | 4/10 [00:33<00:44,  7.49s/epoch]"
     ]
    },
    {
     "name": "stdout",
     "output_type": "stream",
     "text": [
      "Epoch [4/10] Train Loss: 0.5061 Train Accuracy: 80.51% Validation Loss: 0.7581 Validation Accuracy: 68.66%\n"
     ]
    },
    {
     "name": "stderr",
     "output_type": "stream",
     "text": [
      "Training:  50%|█████     | 5/10 [00:39<00:34,  6.92s/epoch]"
     ]
    },
    {
     "name": "stdout",
     "output_type": "stream",
     "text": [
      "Epoch [5/10] Train Loss: 0.3156 Train Accuracy: 87.67% Validation Loss: 0.6900 Validation Accuracy: 76.41%\n"
     ]
    },
    {
     "name": "stderr",
     "output_type": "stream",
     "text": [
      "Training:  60%|██████    | 6/10 [00:45<00:26,  6.56s/epoch]"
     ]
    },
    {
     "name": "stdout",
     "output_type": "stream",
     "text": [
      "Epoch [6/10] Train Loss: 0.1452 Train Accuracy: 94.56% Validation Loss: 0.8288 Validation Accuracy: 77.87%\n"
     ]
    },
    {
     "name": "stderr",
     "output_type": "stream",
     "text": [
      "Training:  70%|███████   | 7/10 [00:52<00:20,  6.78s/epoch]"
     ]
    },
    {
     "name": "stdout",
     "output_type": "stream",
     "text": [
      "Epoch [7/10] Train Loss: 0.0864 Train Accuracy: 97.09% Validation Loss: 0.8183 Validation Accuracy: 78.35%\n"
     ]
    },
    {
     "name": "stderr",
     "output_type": "stream",
     "text": [
      "Training:  80%|████████  | 8/10 [01:03<00:15,  7.94s/epoch]"
     ]
    },
    {
     "name": "stdout",
     "output_type": "stream",
     "text": [
      "Epoch [8/10] Train Loss: 0.0466 Train Accuracy: 98.55% Validation Loss: 1.0505 Validation Accuracy: 76.74%\n"
     ]
    },
    {
     "name": "stderr",
     "output_type": "stream",
     "text": [
      "Training:  90%|█████████ | 9/10 [01:13<00:08,  8.58s/epoch]"
     ]
    },
    {
     "name": "stdout",
     "output_type": "stream",
     "text": [
      "Epoch [9/10] Train Loss: 0.0335 Train Accuracy: 98.92% Validation Loss: 1.1666 Validation Accuracy: 76.74%\n"
     ]
    },
    {
     "name": "stderr",
     "output_type": "stream",
     "text": [
      "Training: 100%|██████████| 10/10 [01:23<00:00,  8.33s/epoch]"
     ]
    },
    {
     "name": "stdout",
     "output_type": "stream",
     "text": [
      "Epoch [10/10] Train Loss: 0.0454 Train Accuracy: 98.55% Validation Loss: 1.1446 Validation Accuracy: 80.13%\n"
     ]
    },
    {
     "name": "stderr",
     "output_type": "stream",
     "text": [
      "\n"
     ]
    }
   ],
   "source": [
    "for epoch in tqdm(range(epochs), desc=\"Training\", unit=\"epoch\"):\n",
    "    train_loss, train_accuracy, train_labels, train_preds = train(model, train_loader=train_loader,optimizer=optimizer, criterion=criterion, device=device)\n",
    "    val_loss, val_accuracy, val_labels, val_preds = evaluate(model, val_loader, criterion=criterion, device=device)\n",
    "\n",
    "    tqdm.write(\n",
    "        f\"Epoch [{epoch + 1}/{epochs}] \"\n",
    "        f\"Train Loss: {train_loss:.4f} \"\n",
    "        f\"Train Accuracy: {train_accuracy * 100:.2f}% \"\n",
    "        f\"Validation Loss: {val_loss:.4f} \"\n",
    "        f\"Validation Accuracy: {val_accuracy * 100:.2f}%\"\n",
    "    )"
   ]
  },
  {
   "cell_type": "code",
   "execution_count": 6,
   "metadata": {},
   "outputs": [
    {
     "name": "stderr",
     "output_type": "stream",
     "text": [
      "Testing:  10%|█         | 1/10 [00:01<00:09,  1.10s/epoch]"
     ]
    },
    {
     "name": "stdout",
     "output_type": "stream",
     "text": [
      "Testing Epoch [1/10] Test Loss: 1.1759 Test Accuracy: 79.35% Time per Epoch: 1.10 seconds\n"
     ]
    },
    {
     "name": "stderr",
     "output_type": "stream",
     "text": [
      "Testing:  20%|██        | 2/10 [00:02<00:08,  1.07s/epoch]"
     ]
    },
    {
     "name": "stdout",
     "output_type": "stream",
     "text": [
      "Testing Epoch [2/10] Test Loss: 1.1948 Test Accuracy: 79.35% Time per Epoch: 1.05 seconds\n"
     ]
    },
    {
     "name": "stderr",
     "output_type": "stream",
     "text": [
      "Testing:  30%|███       | 3/10 [00:03<00:07,  1.08s/epoch]"
     ]
    },
    {
     "name": "stdout",
     "output_type": "stream",
     "text": [
      "Testing Epoch [3/10] Test Loss: 1.2325 Test Accuracy: 79.35% Time per Epoch: 1.08 seconds\n"
     ]
    },
    {
     "name": "stderr",
     "output_type": "stream",
     "text": [
      "Testing:  40%|████      | 4/10 [00:04<00:06,  1.08s/epoch]"
     ]
    },
    {
     "name": "stdout",
     "output_type": "stream",
     "text": [
      "Testing Epoch [4/10] Test Loss: 1.1776 Test Accuracy: 79.35% Time per Epoch: 1.09 seconds\n"
     ]
    },
    {
     "name": "stderr",
     "output_type": "stream",
     "text": [
      "Testing:  50%|█████     | 5/10 [00:05<00:05,  1.10s/epoch]"
     ]
    },
    {
     "name": "stdout",
     "output_type": "stream",
     "text": [
      "Testing Epoch [5/10] Test Loss: 1.1686 Test Accuracy: 79.35% Time per Epoch: 1.12 seconds\n"
     ]
    },
    {
     "name": "stderr",
     "output_type": "stream",
     "text": [
      "Testing:  60%|██████    | 6/10 [00:06<00:04,  1.09s/epoch]"
     ]
    },
    {
     "name": "stdout",
     "output_type": "stream",
     "text": [
      "Testing Epoch [6/10] Test Loss: 1.1759 Test Accuracy: 79.35% Time per Epoch: 1.08 seconds\n"
     ]
    },
    {
     "name": "stderr",
     "output_type": "stream",
     "text": [
      "Testing:  70%|███████   | 7/10 [00:07<00:03,  1.09s/epoch]"
     ]
    },
    {
     "name": "stdout",
     "output_type": "stream",
     "text": [
      "Testing Epoch [7/10] Test Loss: 1.1696 Test Accuracy: 79.35% Time per Epoch: 1.08 seconds\n"
     ]
    },
    {
     "name": "stderr",
     "output_type": "stream",
     "text": [
      "Testing:  80%|████████  | 8/10 [00:08<00:02,  1.08s/epoch]"
     ]
    },
    {
     "name": "stdout",
     "output_type": "stream",
     "text": [
      "Testing Epoch [8/10] Test Loss: 1.1804 Test Accuracy: 79.35% Time per Epoch: 1.04 seconds\n"
     ]
    },
    {
     "name": "stderr",
     "output_type": "stream",
     "text": [
      "Testing:  90%|█████████ | 9/10 [00:09<00:01,  1.09s/epoch]"
     ]
    },
    {
     "name": "stdout",
     "output_type": "stream",
     "text": [
      "Testing Epoch [9/10] Test Loss: 1.1830 Test Accuracy: 79.35% Time per Epoch: 1.10 seconds\n"
     ]
    },
    {
     "name": "stderr",
     "output_type": "stream",
     "text": [
      "Testing: 100%|██████████| 10/10 [00:10<00:00,  1.09s/epoch]"
     ]
    },
    {
     "name": "stdout",
     "output_type": "stream",
     "text": [
      "Testing Epoch [10/10] Test Loss: 1.2441 Test Accuracy: 79.35% Time per Epoch: 1.11 seconds\n",
      "Average Test Loss: 1.1902\n",
      "Average Test Accuracy: 79.35%\n"
     ]
    },
    {
     "name": "stderr",
     "output_type": "stream",
     "text": [
      "\n"
     ]
    }
   ],
   "source": [
    "test_losses = []\n",
    "test_accuracies = []\n",
    "for epoch in tqdm(range(epochs), desc=\"Testing\", unit=\"epoch\"):\n",
    "    start_time = time.time()\n",
    "    test_loss, test_accuracy, test_labels, test_preds = evaluate(model, test_loader, criterion=criterion, device=device)\n",
    "    end_time = time.time()\n",
    "\n",
    "    epoch_time = end_time - start_time\n",
    "\n",
    "    test_losses.append(test_loss)\n",
    "    test_accuracies.append(test_accuracy)\n",
    "\n",
    "    tqdm.write(\n",
    "        f\"Testing Epoch [{epoch + 1}/{epochs}] \"\n",
    "        f\"Test Loss: {test_loss:.4f} \"\n",
    "        f\"Test Accuracy: {test_accuracy * 100:.2f}% \"\n",
    "        f\"Time per Epoch: {epoch_time:.2f} seconds\"\n",
    "    )\n",
    "\n",
    "avg_test_loss = sum(test_losses) / len(test_losses)\n",
    "avg_test_accuracy = sum(test_accuracies) / len(test_accuracies)\n",
    "print(f\"Average Test Loss: {avg_test_loss:.4f}\")\n",
    "print(f\"Average Test Accuracy: {avg_test_accuracy * 100:.2f}%\")"
   ]
  },
  {
   "cell_type": "markdown",
   "metadata": {},
   "source": [
    "Classification:"
   ]
  },
  {
   "cell_type": "code",
   "execution_count": 7,
   "metadata": {},
   "outputs": [
    {
     "name": "stdout",
     "output_type": "stream",
     "text": [
      "              precision    recall  f1-score   support\n",
      "\n",
      "           0       0.99      0.98      0.99       546\n",
      "           1       0.98      0.98      0.98       560\n",
      "           2       0.96      0.98      0.97       254\n",
      "           3       1.00      1.00      1.00       497\n",
      "\n",
      "    accuracy                           0.99      1857\n",
      "   macro avg       0.98      0.99      0.98      1857\n",
      "weighted avg       0.99      0.99      0.99      1857\n",
      "\n",
      "              precision    recall  f1-score   support\n",
      "\n",
      "           0       0.83      0.73      0.78       169\n",
      "           1       0.70      0.77      0.73       175\n",
      "           2       0.82      0.78      0.80        97\n",
      "           3       0.88      0.91      0.90       178\n",
      "\n",
      "    accuracy                           0.80       619\n",
      "   macro avg       0.81      0.80      0.80       619\n",
      "weighted avg       0.80      0.80      0.80       619\n",
      "\n",
      "              precision    recall  f1-score   support\n",
      "\n",
      "           0       0.84      0.74      0.78       186\n",
      "           1       0.71      0.76      0.73       178\n",
      "           2       0.82      0.78      0.80        87\n",
      "           3       0.84      0.90      0.87       169\n",
      "\n",
      "    accuracy                           0.79       620\n",
      "   macro avg       0.80      0.79      0.80       620\n",
      "weighted avg       0.80      0.79      0.79       620\n",
      "\n"
     ]
    },
    {
     "data": {
      "image/png": "[encoded data removed]",
      "text/plain": [
       "<Figure size 800x600 with 2 Axes>"
      ]
     },
     "metadata": {},
     "output_type": "display_data"
    },
    {
     "data": {
      "image/png": "[encoded data removed]",
      "text/plain": [
       "<Figure size 800x600 with 2 Axes>"
      ]
     },
     "metadata": {},
     "output_type": "display_data"
    },
    {
     "data": {
      "image/png": "[encoded data removed]",
      "text/plain": [
       "<Figure size 800x600 with 2 Axes>"
      ]
     },
     "metadata": {},
     "output_type": "display_data"
    }
   ],
   "source": [
    "confusion_train = confusion_matrix(train_labels, train_preds)\n",
    "confusion_val = confusion_matrix(val_labels, val_preds)\n",
    "confusion_test = confusion_matrix(test_labels, test_preds)\n",
    "\n",
    "print(classification_report(train_labels, train_preds))\n",
    "print(classification_report(val_labels, val_preds))\n",
    "print(classification_report(test_labels, test_preds))\n",
    "\n",
    "class_names = [str(i) for i in range(NUM_CLASSES)]  # Update with your class names\n",
    "plot_confusion_matrix(confusion_train, class_names, title='Train Confusion Matrix')\n",
    "plot_confusion_matrix(confusion_val, class_names, title='Validation Confusion Matrix')\n",
    "plot_confusion_matrix(confusion_test, class_names, title='Test Confusion Matrix')\n",
    "\n",
    "plt.show()"
   ]
  }
 ],
 "metadata": {
  "kernelspec": {
   "display_name": "Python 3",
   "language": "python",
   "name": "python3"
  },
  "language_info": {
   "codemirror_mode": {
    "name": "ipython",
    "version": 3
   },
   "file_extension": ".py",
   "mimetype": "text/x-python",
   "name": "python",
   "nbconvert_exporter": "python",
   "pygments_lexer": "ipython3",
   "version": "3.10.11"
  }
 },
 "nbformat": 4,
 "nbformat_minor": 2
}
