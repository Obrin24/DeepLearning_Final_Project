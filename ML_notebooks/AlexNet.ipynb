{
 "cells": [
  {
   "cell_type": "markdown",
   "metadata": {},
   "source": [
    "Importing:"
   ]
  },
  {
   "cell_type": "code",
   "execution_count": 1,
   "metadata": {},
   "outputs": [],
   "source": [
    "import json\n",
    "import matplotlib.pyplot as plt\n",
    "import time\n",
    "import torch\n",
    "import torch.nn as nn\n",
    "import torch.optim as optim\n",
    "\n",
    "from sklearn.metrics import classification_report, confusion_matrix\n",
    "from tqdm import tqdm"
   ]
  },
  {
   "cell_type": "code",
   "execution_count": 2,
   "metadata": {},
   "outputs": [
    {
     "name": "stdout",
     "output_type": "stream",
     "text": [
      "Using GPU for training.\n"
     ]
    }
   ],
   "source": [
    "if torch.cuda.is_available():\n",
    "    device = torch.device(\"cuda\")\n",
    "    print(\"Using GPU for training.\")\n",
    "else:\n",
    "    device = torch.device(\"cpu\")\n",
    "    print(\"No GPU available, using CPU for training.\")"
   ]
  },
  {
   "cell_type": "code",
   "execution_count": 3,
   "metadata": {},
   "outputs": [
    {
     "name": "stdout",
     "output_type": "stream",
     "text": [
      "Data loaded and split into training, validation and testing datasets\n"
     ]
    }
   ],
   "source": [
    "%run \"../DL_notebooks/src/dataloading.ipynb\"\n",
    "%run \"../DL_notebooks/src/training.ipynb\"\n",
    "%run \"../DL_notebooks/src/evaluate.ipynb\"\n",
    "%run \"../DL_notebooks/src/visualizations.ipynb\"\n",
    "%run \"../DL_notebooks/model_architectures.ipynb\""
   ]
  },
  {
   "cell_type": "markdown",
   "metadata": {},
   "source": [
    "Training:"
   ]
  },
  {
   "cell_type": "code",
   "execution_count": 4,
   "metadata": {},
   "outputs": [],
   "source": [
    "def update_current_model(json_file, new_model_name):\n",
    "    # Load the JSON data from the file\n",
    "    with open(json_file, 'r') as file:\n",
    "        data = json.load(file)\n",
    "\n",
    "    # Update the current-model value\n",
    "    data['current-model'] = new_model_name\n",
    "\n",
    "    # Save the updated JSON data back to the file\n",
    "    with open(json_file, 'w') as file:\n",
    "        json.dump(data, file, indent=4)\n",
    "json_file_path = '../DL_notebooks/configs/model_configs.json'\n",
    "new_model_name = 'AlexNet'\n",
    "update_current_model(json_file_path, new_model_name)"
   ]
  },
  {
   "cell_type": "code",
   "execution_count": 5,
   "metadata": {},
   "outputs": [],
   "source": [
    "model_config_file = open('../DL_notebooks/configs/model_configs.json')\n",
    "model_configs = json.load(model_config_file)\n",
    "current_model_configs = model_configs[model_configs['current-model']]\n",
    "\n",
    "epochs = current_model_configs['epoch-count']\n",
    "\n",
    "match model_configs['current-model']:\n",
    "    case 'AlexNet':\n",
    "        model = MRI_AlexNet\n",
    "match current_model_configs['loss-function']:\n",
    "    case 'cross-entropy':\n",
    "        criterion = nn.CrossEntropyLoss()\n",
    "    case _:\n",
    "        criterion = nn.CrossEntropyLoss()\n",
    "match current_model_configs['optimizer']:\n",
    "    case 'adam':\n",
    "        optimizer = optim.Adam\n",
    "    case 'adamW':\n",
    "        optimizer = optim.AdamW\n",
    "    case _:\n",
    "        optimizer = optim.Adam\n",
    "\n",
    "model = model(**current_model_configs['model-hyperparameters']).to(device)\n",
    "optimizer = optimizer(model.parameters(), lr=current_model_configs['optimizer-lr'])\n"
   ]
  },
  {
   "cell_type": "code",
   "execution_count": 6,
   "metadata": {},
   "outputs": [
    {
     "name": "stderr",
     "output_type": "stream",
     "text": [
      "Training:   5%|▌         | 1/20 [00:06<02:07,  6.72s/epoch]"
     ]
    },
    {
     "name": "stdout",
     "output_type": "stream",
     "text": [
      "Epoch [1/20] Train Loss: 1.3554 Train Accuracy: 30.43% Validation Loss: 1.3544 Validation Accuracy: 29.56%\n"
     ]
    },
    {
     "name": "stderr",
     "output_type": "stream",
     "text": [
      "Training:  10%|█         | 2/20 [00:12<01:47,  5.96s/epoch]"
     ]
    },
    {
     "name": "stdout",
     "output_type": "stream",
     "text": [
      "Epoch [2/20] Train Loss: 1.2918 Train Accuracy: 36.83% Validation Loss: 1.2290 Validation Accuracy: 42.33%\n"
     ]
    },
    {
     "name": "stderr",
     "output_type": "stream",
     "text": [
      "Training:  15%|█▌        | 3/20 [00:16<01:27,  5.14s/epoch]"
     ]
    },
    {
     "name": "stdout",
     "output_type": "stream",
     "text": [
      "Epoch [3/20] Train Loss: 1.1440 Train Accuracy: 44.80% Validation Loss: 1.1234 Validation Accuracy: 46.85%\n"
     ]
    },
    {
     "name": "stderr",
     "output_type": "stream",
     "text": [
      "Training:  20%|██        | 4/20 [00:20<01:16,  4.79s/epoch]"
     ]
    },
    {
     "name": "stdout",
     "output_type": "stream",
     "text": [
      "Epoch [4/20] Train Loss: 1.0919 Train Accuracy: 50.73% Validation Loss: 1.1404 Validation Accuracy: 47.98%\n"
     ]
    },
    {
     "name": "stderr",
     "output_type": "stream",
     "text": [
      "Training:  25%|██▌       | 5/20 [00:24<01:09,  4.64s/epoch]"
     ]
    },
    {
     "name": "stdout",
     "output_type": "stream",
     "text": [
      "Epoch [5/20] Train Loss: 1.0087 Train Accuracy: 55.95% Validation Loss: 1.1218 Validation Accuracy: 49.43%\n"
     ]
    },
    {
     "name": "stderr",
     "output_type": "stream",
     "text": [
      "Training:  30%|███       | 6/20 [00:29<01:03,  4.55s/epoch]"
     ]
    },
    {
     "name": "stdout",
     "output_type": "stream",
     "text": [
      "Epoch [6/20] Train Loss: 0.9243 Train Accuracy: 61.66% Validation Loss: 0.9386 Validation Accuracy: 60.26%\n"
     ]
    },
    {
     "name": "stderr",
     "output_type": "stream",
     "text": [
      "Training:  35%|███▌      | 7/20 [00:33<00:58,  4.51s/epoch]"
     ]
    },
    {
     "name": "stdout",
     "output_type": "stream",
     "text": [
      "Epoch [7/20] Train Loss: 0.7801 Train Accuracy: 67.64% Validation Loss: 0.7584 Validation Accuracy: 70.11%\n"
     ]
    },
    {
     "name": "stderr",
     "output_type": "stream",
     "text": [
      "Training:  40%|████      | 8/20 [00:38<00:54,  4.52s/epoch]"
     ]
    },
    {
     "name": "stdout",
     "output_type": "stream",
     "text": [
      "Epoch [8/20] Train Loss: 0.6555 Train Accuracy: 74.31% Validation Loss: 0.6873 Validation Accuracy: 72.05%\n"
     ]
    },
    {
     "name": "stderr",
     "output_type": "stream",
     "text": [
      "Training:  45%|████▌     | 9/20 [00:42<00:49,  4.46s/epoch]"
     ]
    },
    {
     "name": "stdout",
     "output_type": "stream",
     "text": [
      "Epoch [9/20] Train Loss: 0.6402 Train Accuracy: 74.37% Validation Loss: 0.6464 Validation Accuracy: 72.86%\n"
     ]
    },
    {
     "name": "stderr",
     "output_type": "stream",
     "text": [
      "Training:  50%|█████     | 10/20 [00:46<00:44,  4.42s/epoch]"
     ]
    },
    {
     "name": "stdout",
     "output_type": "stream",
     "text": [
      "Epoch [10/20] Train Loss: 0.5981 Train Accuracy: 78.73% Validation Loss: 0.6000 Validation Accuracy: 76.74%\n"
     ]
    },
    {
     "name": "stderr",
     "output_type": "stream",
     "text": [
      "Training:  55%|█████▌    | 11/20 [00:51<00:39,  4.36s/epoch]"
     ]
    },
    {
     "name": "stdout",
     "output_type": "stream",
     "text": [
      "Epoch [11/20] Train Loss: 0.5054 Train Accuracy: 80.61% Validation Loss: 0.5993 Validation Accuracy: 78.03%\n"
     ]
    },
    {
     "name": "stderr",
     "output_type": "stream",
     "text": [
      "Training:  60%|██████    | 12/20 [00:55<00:34,  4.34s/epoch]"
     ]
    },
    {
     "name": "stdout",
     "output_type": "stream",
     "text": [
      "Epoch [12/20] Train Loss: 0.4113 Train Accuracy: 84.22% Validation Loss: 0.6034 Validation Accuracy: 76.74%\n"
     ]
    },
    {
     "name": "stderr",
     "output_type": "stream",
     "text": [
      "Training:  65%|██████▌   | 13/20 [00:59<00:30,  4.32s/epoch]"
     ]
    },
    {
     "name": "stdout",
     "output_type": "stream",
     "text": [
      "Epoch [13/20] Train Loss: 0.4098 Train Accuracy: 84.11% Validation Loss: 0.4669 Validation Accuracy: 83.68%\n"
     ]
    },
    {
     "name": "stderr",
     "output_type": "stream",
     "text": [
      "Training:  70%|███████   | 14/20 [01:04<00:25,  4.31s/epoch]"
     ]
    },
    {
     "name": "stdout",
     "output_type": "stream",
     "text": [
      "Epoch [14/20] Train Loss: 0.3090 Train Accuracy: 87.56% Validation Loss: 0.4480 Validation Accuracy: 83.68%\n"
     ]
    },
    {
     "name": "stderr",
     "output_type": "stream",
     "text": [
      "Training:  75%|███████▌  | 15/20 [01:08<00:21,  4.37s/epoch]"
     ]
    },
    {
     "name": "stdout",
     "output_type": "stream",
     "text": [
      "Epoch [15/20] Train Loss: 0.2372 Train Accuracy: 90.95% Validation Loss: 0.4815 Validation Accuracy: 82.88%\n"
     ]
    },
    {
     "name": "stderr",
     "output_type": "stream",
     "text": [
      "Training:  80%|████████  | 16/20 [01:12<00:17,  4.34s/epoch]"
     ]
    },
    {
     "name": "stdout",
     "output_type": "stream",
     "text": [
      "Epoch [16/20] Train Loss: 0.2191 Train Accuracy: 91.22% Validation Loss: 0.4030 Validation Accuracy: 86.11%\n"
     ]
    },
    {
     "name": "stderr",
     "output_type": "stream",
     "text": [
      "Training:  85%|████████▌ | 17/20 [01:17<00:13,  4.34s/epoch]"
     ]
    },
    {
     "name": "stdout",
     "output_type": "stream",
     "text": [
      "Epoch [17/20] Train Loss: 0.1465 Train Accuracy: 94.45% Validation Loss: 0.4517 Validation Accuracy: 86.75%\n"
     ]
    },
    {
     "name": "stderr",
     "output_type": "stream",
     "text": [
      "Training:  90%|█████████ | 18/20 [01:21<00:08,  4.30s/epoch]"
     ]
    },
    {
     "name": "stdout",
     "output_type": "stream",
     "text": [
      "Epoch [18/20] Train Loss: 0.1435 Train Accuracy: 94.72% Validation Loss: 0.5409 Validation Accuracy: 82.88%\n"
     ]
    },
    {
     "name": "stderr",
     "output_type": "stream",
     "text": [
      "Training:  95%|█████████▌| 19/20 [01:25<00:04,  4.30s/epoch]"
     ]
    },
    {
     "name": "stdout",
     "output_type": "stream",
     "text": [
      "Epoch [19/20] Train Loss: 0.1178 Train Accuracy: 95.42% Validation Loss: 0.4318 Validation Accuracy: 87.08%\n"
     ]
    },
    {
     "name": "stderr",
     "output_type": "stream",
     "text": [
      "Training: 100%|██████████| 20/20 [01:29<00:00,  4.49s/epoch]"
     ]
    },
    {
     "name": "stdout",
     "output_type": "stream",
     "text": [
      "Epoch [20/20] Train Loss: 0.1365 Train Accuracy: 94.51% Validation Loss: 0.4384 Validation Accuracy: 86.91%\n"
     ]
    },
    {
     "name": "stderr",
     "output_type": "stream",
     "text": [
      "\n"
     ]
    }
   ],
   "source": [
    "for epoch in tqdm(range(epochs), desc=\"Training\", unit=\"epoch\"):\n",
    "    train_loss, train_accuracy, train_labels, train_preds = train(model, train_loader=train_loader,optimizer=optimizer, criterion=criterion, device=device)\n",
    "    val_loss, val_accuracy, val_labels, val_preds = evaluate(model, val_loader, criterion=criterion, device=device)\n",
    "\n",
    "    tqdm.write(\n",
    "        f\"Epoch [{epoch + 1}/{epochs}] \"\n",
    "        f\"Train Loss: {train_loss:.4f} \"\n",
    "        f\"Train Accuracy: {train_accuracy * 100:.2f}% \"\n",
    "        f\"Validation Loss: {val_loss:.4f} \"\n",
    "        f\"Validation Accuracy: {val_accuracy * 100:.2f}%\"\n",
    "    )\n"
   ]
  },
  {
   "cell_type": "code",
   "execution_count": 7,
   "metadata": {},
   "outputs": [
    {
     "name": "stderr",
     "output_type": "stream",
     "text": [
      "Testing:   5%|▌         | 1/20 [00:00<00:13,  1.41epoch/s]"
     ]
    },
    {
     "name": "stdout",
     "output_type": "stream",
     "text": [
      "Testing Epoch [1/20] Test Loss: 0.3649 Test Accuracy: 87.90% Time per Epoch: 0.71 seconds\n"
     ]
    },
    {
     "name": "stderr",
     "output_type": "stream",
     "text": [
      "Testing:  10%|█         | 2/20 [00:01<00:12,  1.45epoch/s]"
     ]
    },
    {
     "name": "stdout",
     "output_type": "stream",
     "text": [
      "Testing Epoch [2/20] Test Loss: 0.3474 Test Accuracy: 87.90% Time per Epoch: 0.68 seconds\n"
     ]
    },
    {
     "name": "stderr",
     "output_type": "stream",
     "text": [
      "Testing:  15%|█▌        | 3/20 [00:02<00:11,  1.44epoch/s]"
     ]
    },
    {
     "name": "stdout",
     "output_type": "stream",
     "text": [
      "Testing Epoch [3/20] Test Loss: 0.3423 Test Accuracy: 87.90% Time per Epoch: 0.70 seconds\n"
     ]
    },
    {
     "name": "stderr",
     "output_type": "stream",
     "text": [
      "Testing:  20%|██        | 4/20 [00:02<00:11,  1.42epoch/s]"
     ]
    },
    {
     "name": "stdout",
     "output_type": "stream",
     "text": [
      "Testing Epoch [4/20] Test Loss: 0.3468 Test Accuracy: 87.90% Time per Epoch: 0.71 seconds\n"
     ]
    },
    {
     "name": "stderr",
     "output_type": "stream",
     "text": [
      "Testing:  25%|██▌       | 5/20 [00:03<00:10,  1.38epoch/s]"
     ]
    },
    {
     "name": "stdout",
     "output_type": "stream",
     "text": [
      "Testing Epoch [5/20] Test Loss: 0.3506 Test Accuracy: 87.90% Time per Epoch: 0.76 seconds\n"
     ]
    },
    {
     "name": "stderr",
     "output_type": "stream",
     "text": [
      "Testing:  30%|███       | 6/20 [00:04<00:10,  1.34epoch/s]"
     ]
    },
    {
     "name": "stdout",
     "output_type": "stream",
     "text": [
      "Testing Epoch [6/20] Test Loss: 0.3377 Test Accuracy: 87.90% Time per Epoch: 0.78 seconds\n"
     ]
    },
    {
     "name": "stderr",
     "output_type": "stream",
     "text": [
      "Testing:  35%|███▌      | 7/20 [00:05<00:10,  1.29epoch/s]"
     ]
    },
    {
     "name": "stdout",
     "output_type": "stream",
     "text": [
      "Testing Epoch [7/20] Test Loss: 0.3436 Test Accuracy: 87.90% Time per Epoch: 0.83 seconds\n"
     ]
    },
    {
     "name": "stderr",
     "output_type": "stream",
     "text": [
      "Testing:  40%|████      | 8/20 [00:05<00:09,  1.28epoch/s]"
     ]
    },
    {
     "name": "stdout",
     "output_type": "stream",
     "text": [
      "Testing Epoch [8/20] Test Loss: 0.3573 Test Accuracy: 87.90% Time per Epoch: 0.80 seconds\n"
     ]
    },
    {
     "name": "stderr",
     "output_type": "stream",
     "text": [
      "Testing:  45%|████▌     | 9/20 [00:06<00:08,  1.25epoch/s]"
     ]
    },
    {
     "name": "stdout",
     "output_type": "stream",
     "text": [
      "Testing Epoch [9/20] Test Loss: 0.3496 Test Accuracy: 87.90% Time per Epoch: 0.83 seconds\n"
     ]
    },
    {
     "name": "stderr",
     "output_type": "stream",
     "text": [
      "Testing:  50%|█████     | 10/20 [00:07<00:07,  1.26epoch/s]"
     ]
    },
    {
     "name": "stdout",
     "output_type": "stream",
     "text": [
      "Testing Epoch [10/20] Test Loss: 0.3525 Test Accuracy: 87.90% Time per Epoch: 0.78 seconds\n"
     ]
    },
    {
     "name": "stderr",
     "output_type": "stream",
     "text": [
      "Testing:  55%|█████▌    | 11/20 [00:08<00:07,  1.27epoch/s]"
     ]
    },
    {
     "name": "stdout",
     "output_type": "stream",
     "text": [
      "Testing Epoch [11/20] Test Loss: 0.3443 Test Accuracy: 87.90% Time per Epoch: 0.76 seconds\n"
     ]
    },
    {
     "name": "stderr",
     "output_type": "stream",
     "text": [
      "Testing:  60%|██████    | 12/20 [00:09<00:06,  1.28epoch/s]"
     ]
    },
    {
     "name": "stdout",
     "output_type": "stream",
     "text": [
      "Testing Epoch [12/20] Test Loss: 0.3484 Test Accuracy: 87.90% Time per Epoch: 0.76 seconds\n"
     ]
    },
    {
     "name": "stderr",
     "output_type": "stream",
     "text": [
      "Testing:  65%|██████▌   | 13/20 [00:09<00:05,  1.29epoch/s]"
     ]
    },
    {
     "name": "stdout",
     "output_type": "stream",
     "text": [
      "Testing Epoch [13/20] Test Loss: 0.3531 Test Accuracy: 87.90% Time per Epoch: 0.77 seconds\n"
     ]
    },
    {
     "name": "stderr",
     "output_type": "stream",
     "text": [
      "Testing:  70%|███████   | 14/20 [00:10<00:04,  1.29epoch/s]"
     ]
    },
    {
     "name": "stdout",
     "output_type": "stream",
     "text": [
      "Testing Epoch [14/20] Test Loss: 0.3483 Test Accuracy: 87.90% Time per Epoch: 0.76 seconds\n"
     ]
    },
    {
     "name": "stderr",
     "output_type": "stream",
     "text": [
      "Testing:  75%|███████▌  | 15/20 [00:11<00:03,  1.29epoch/s]"
     ]
    },
    {
     "name": "stdout",
     "output_type": "stream",
     "text": [
      "Testing Epoch [15/20] Test Loss: 0.3458 Test Accuracy: 87.90% Time per Epoch: 0.78 seconds\n"
     ]
    },
    {
     "name": "stderr",
     "output_type": "stream",
     "text": [
      "Testing:  80%|████████  | 16/20 [00:12<00:03,  1.28epoch/s]"
     ]
    },
    {
     "name": "stdout",
     "output_type": "stream",
     "text": [
      "Testing Epoch [16/20] Test Loss: 0.3399 Test Accuracy: 87.90% Time per Epoch: 0.79 seconds\n"
     ]
    },
    {
     "name": "stderr",
     "output_type": "stream",
     "text": [
      "Testing:  85%|████████▌ | 17/20 [00:13<00:02,  1.27epoch/s]"
     ]
    },
    {
     "name": "stdout",
     "output_type": "stream",
     "text": [
      "Testing Epoch [17/20] Test Loss: 0.3372 Test Accuracy: 87.90% Time per Epoch: 0.79 seconds\n"
     ]
    },
    {
     "name": "stderr",
     "output_type": "stream",
     "text": [
      "Testing:  90%|█████████ | 18/20 [00:13<00:01,  1.26epoch/s]"
     ]
    },
    {
     "name": "stdout",
     "output_type": "stream",
     "text": [
      "Testing Epoch [18/20] Test Loss: 0.3497 Test Accuracy: 87.90% Time per Epoch: 0.81 seconds\n"
     ]
    },
    {
     "name": "stderr",
     "output_type": "stream",
     "text": [
      "Testing:  95%|█████████▌| 19/20 [00:14<00:00,  1.27epoch/s]"
     ]
    },
    {
     "name": "stdout",
     "output_type": "stream",
     "text": [
      "Testing Epoch [19/20] Test Loss: 0.3428 Test Accuracy: 87.90% Time per Epoch: 0.78 seconds\n"
     ]
    },
    {
     "name": "stderr",
     "output_type": "stream",
     "text": [
      "Testing: 100%|██████████| 20/20 [00:15<00:00,  1.30epoch/s]"
     ]
    },
    {
     "name": "stdout",
     "output_type": "stream",
     "text": [
      "Testing Epoch [20/20] Test Loss: 0.3386 Test Accuracy: 87.90% Time per Epoch: 0.78 seconds\n",
      "Average Test Loss: 0.3470\n",
      "Average Test Accuracy: 87.90%\n"
     ]
    },
    {
     "name": "stderr",
     "output_type": "stream",
     "text": [
      "\n"
     ]
    }
   ],
   "source": [
    "test_losses = []\n",
    "test_accuracies = []\n",
    "for epoch in tqdm(range(epochs), desc=\"Testing\", unit=\"epoch\"):\n",
    "    start_time = time.time()\n",
    "    test_loss, test_accuracy, test_labels, test_preds = evaluate(model, test_loader, criterion=criterion, device=device)\n",
    "    end_time = time.time()\n",
    "\n",
    "    epoch_time = end_time - start_time\n",
    "\n",
    "    test_losses.append(test_loss)\n",
    "    test_accuracies.append(test_accuracy)\n",
    "\n",
    "    tqdm.write(\n",
    "        f\"Testing Epoch [{epoch + 1}/{epochs}] \"\n",
    "        f\"Test Loss: {test_loss:.4f} \"\n",
    "        f\"Test Accuracy: {test_accuracy * 100:.2f}% \"\n",
    "        f\"Time per Epoch: {epoch_time:.2f} seconds\"\n",
    "    )\n",
    "\n",
    "avg_test_loss = sum(test_losses) / len(test_losses)\n",
    "avg_test_accuracy = sum(test_accuracies) / len(test_accuracies)\n",
    "print(f\"Average Test Loss: {avg_test_loss:.4f}\")\n",
    "print(f\"Average Test Accuracy: {avg_test_accuracy * 100:.2f}%\")"
   ]
  },
  {
   "cell_type": "markdown",
   "metadata": {},
   "source": [
    "Training Classification:"
   ]
  },
  {
   "cell_type": "code",
   "execution_count": 8,
   "metadata": {},
   "outputs": [
    {
     "name": "stdout",
     "output_type": "stream",
     "text": [
      "              precision    recall  f1-score   support\n",
      "\n",
      "           0       0.93      0.92      0.93       546\n",
      "           1       0.93      0.92      0.93       560\n",
      "           2       0.95      0.97      0.96       254\n",
      "           3       0.97      0.98      0.98       497\n",
      "\n",
      "    accuracy                           0.95      1857\n",
      "   macro avg       0.95      0.95      0.95      1857\n",
      "weighted avg       0.94      0.95      0.94      1857\n",
      "\n",
      "              precision    recall  f1-score   support\n",
      "\n",
      "           0       0.86      0.80      0.83       169\n",
      "           1       0.82      0.86      0.84       175\n",
      "           2       0.85      0.94      0.89        97\n",
      "           3       0.95      0.90      0.93       178\n",
      "\n",
      "    accuracy                           0.87       619\n",
      "   macro avg       0.87      0.88      0.87       619\n",
      "weighted avg       0.87      0.87      0.87       619\n",
      "\n",
      "              precision    recall  f1-score   support\n",
      "\n",
      "           0       0.86      0.86      0.86       186\n",
      "           1       0.87      0.85      0.86       178\n",
      "           2       0.81      0.93      0.87        87\n",
      "           3       0.96      0.91      0.93       169\n",
      "\n",
      "    accuracy                           0.88       620\n",
      "   macro avg       0.87      0.89      0.88       620\n",
      "weighted avg       0.88      0.88      0.88       620\n",
      "\n"
     ]
    },
    {
     "data": {
      "image/png": "[encoded data removed]",
      "text/plain": [
       "<Figure size 800x600 with 2 Axes>"
      ]
     },
     "metadata": {},
     "output_type": "display_data"
    },
    {
     "data": {
      "image/png": "[encoded data removed]",
      "text/plain": [
       "<Figure size 800x600 with 2 Axes>"
      ]
     },
     "metadata": {},
     "output_type": "display_data"
    },
    {
     "data": {
      "image/png": "[encoded data removed]",
      "text/plain": [
       "<Figure size 800x600 with 2 Axes>"
      ]
     },
     "metadata": {},
     "output_type": "display_data"
    }
   ],
   "source": [
    "confusion_train = confusion_matrix(train_labels, train_preds)\n",
    "confusion_val = confusion_matrix(val_labels, val_preds)\n",
    "confusion_test = confusion_matrix(test_labels, test_preds)\n",
    "\n",
    "print(classification_report(train_labels, train_preds))\n",
    "print(classification_report(val_labels, val_preds))\n",
    "print(classification_report(test_labels, test_preds))\n",
    "\n",
    "class_names = [str(i) for i in range(NUM_CLASSES)] \n",
    "plot_confusion_matrix(confusion_train, class_names, title='Train Confusion Matrix')\n",
    "plot_confusion_matrix(confusion_val, class_names, title='Validation Confusion Matrix')\n",
    "plot_confusion_matrix(confusion_test, class_names, title='Test Confusion Matrix')\n",
    "\n",
    "plt.show()"
   ]
  }
 ],
 "metadata": {
  "kernelspec": {
   "display_name": "Python 3",
   "language": "python",
   "name": "python3"
  },
  "language_info": {
   "codemirror_mode": {
    "name": "ipython",
    "version": 3
   },
   "file_extension": ".py",
   "mimetype": "text/x-python",
   "name": "python",
   "nbconvert_exporter": "python",
   "pygments_lexer": "ipython3",
   "version": "3.11.6"
  }
 },
 "nbformat": 4,
 "nbformat_minor": 2
}
