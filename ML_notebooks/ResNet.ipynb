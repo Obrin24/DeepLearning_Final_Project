{
 "cells": [
  {
   "cell_type": "markdown",
   "metadata": {},
   "source": [
    "Importing:"
   ]
  },
  {
   "cell_type": "code",
   "execution_count": 32,
   "metadata": {},
   "outputs": [],
   "source": [
    "import json\n",
    "import matplotlib.pyplot as plt\n",
    "import time\n",
    "import torch\n",
    "import torch.nn as nn\n",
    "import torch.optim as optim\n",
    "\n",
    "from sklearn.metrics import classification_report, confusion_matrix\n",
    "from tqdm import tqdm"
   ]
  },
  {
   "cell_type": "code",
   "execution_count": 33,
   "metadata": {},
   "outputs": [
    {
     "name": "stdout",
     "output_type": "stream",
     "text": [
      "Using GPU for training.\n"
     ]
    }
   ],
   "source": [
    "if torch.cuda.is_available():\n",
    "    device = torch.device(\"cuda\")\n",
    "    print(\"Using GPU for training.\")\n",
    "else:\n",
    "    device = torch.device(\"cpu\")\n",
    "    print(\"No GPU available, using CPU for training.\")"
   ]
  },
  {
   "cell_type": "code",
   "execution_count": 34,
   "metadata": {},
   "outputs": [
    {
     "name": "stdout",
     "output_type": "stream",
     "text": [
      "Data loaded and split into training, validation and testing datasets\n"
     ]
    }
   ],
   "source": [
    "%run \"../DL_notebooks/src/dataloading.ipynb\"\n",
    "%run \"../DL_notebooks/src/training.ipynb\"\n",
    "%run \"../DL_notebooks/src/evaluate.ipynb\"\n",
    "%run \"../DL_notebooks/src/visualizations.ipynb\"\n",
    "%run \"../DL_notebooks/model_architectures.ipynb\""
   ]
  },
  {
   "cell_type": "markdown",
   "metadata": {},
   "source": [
    "Training:"
   ]
  },
  {
   "cell_type": "code",
   "execution_count": 35,
   "metadata": {},
   "outputs": [],
   "source": [
    "def update_current_model(json_file, new_model_name):\n",
    "    # Load the JSON data from the file\n",
    "    with open(json_file, 'r') as file:\n",
    "        data = json.load(file)\n",
    "\n",
    "    # Update the current-model value\n",
    "    data['current-model'] = new_model_name\n",
    "\n",
    "    # Save the updated JSON data back to the file\n",
    "    with open(json_file, 'w') as file:\n",
    "        json.dump(data, file, indent=4)\n",
    "json_file_path = '../DL_notebooks/configs/model_configs.json'\n",
    "new_model_name = 'ResNet'\n",
    "update_current_model(json_file_path, new_model_name)"
   ]
  },
  {
   "cell_type": "code",
   "execution_count": 36,
   "metadata": {},
   "outputs": [],
   "source": [
    "\n",
    "model_config_file = open('../DL_notebooks/configs/model_configs.json')\n",
    "model_configs = json.load(model_config_file)\n",
    "current_model_configs = model_configs[model_configs['current-model']]\n",
    "\n",
    "epochs = current_model_configs['epoch-count']\n",
    "\n",
    "match model_configs['current-model']:\n",
    "    case 'ResNet':\n",
    "        model = MRI_ResNet\n",
    "match current_model_configs['loss-function']:\n",
    "    case 'cross-entropy':\n",
    "        criterion = nn.CrossEntropyLoss()\n",
    "    case _:\n",
    "        criterion = nn.CrossEntropyLoss()\n",
    "match current_model_configs['optimizer']:\n",
    "    case 'adam':\n",
    "        optimizer = optim.Adam\n",
    "    case 'adamW':\n",
    "        optimizer = optim.AdamW\n",
    "    case _:\n",
    "        optimizer = optim.Adam\n",
    "\n",
    "model = model(**current_model_configs['model-hyperparameters']).to(device)\n",
    "optimizer = optimizer(model.parameters(), lr=current_model_configs['optimizer-lr'])"
   ]
  },
  {
   "cell_type": "markdown",
   "metadata": {},
   "source": [
    "Training and Testing Scratch ResNet:"
   ]
  },
  {
   "cell_type": "code",
   "execution_count": 37,
   "metadata": {},
   "outputs": [
    {
     "name": "stderr",
     "output_type": "stream",
     "text": [
      "Training:   5%|▌         | 1/20 [00:09<03:04,  9.71s/epoch]"
     ]
    },
    {
     "name": "stdout",
     "output_type": "stream",
     "text": [
      "Epoch [1/20] Train Loss: 0.9922 Train Accuracy: 60.53% Validation Loss: 2.5515 Validation Accuracy: 35.22%\n"
     ]
    },
    {
     "name": "stderr",
     "output_type": "stream",
     "text": [
      "Training:  10%|█         | 2/20 [00:18<02:46,  9.25s/epoch]"
     ]
    },
    {
     "name": "stdout",
     "output_type": "stream",
     "text": [
      "Epoch [2/20] Train Loss: 0.5877 Train Accuracy: 78.30% Validation Loss: 1.1941 Validation Accuracy: 61.07%\n"
     ]
    },
    {
     "name": "stderr",
     "output_type": "stream",
     "text": [
      "Training:  15%|█▌        | 3/20 [00:28<02:40,  9.42s/epoch]"
     ]
    },
    {
     "name": "stdout",
     "output_type": "stream",
     "text": [
      "Epoch [3/20] Train Loss: 0.3029 Train Accuracy: 90.52% Validation Loss: 1.0188 Validation Accuracy: 70.60%\n"
     ]
    },
    {
     "name": "stderr",
     "output_type": "stream",
     "text": [
      "Training:  20%|██        | 4/20 [00:38<02:33,  9.58s/epoch]"
     ]
    },
    {
     "name": "stdout",
     "output_type": "stream",
     "text": [
      "Epoch [4/20] Train Loss: 0.1549 Train Accuracy: 95.64% Validation Loss: 0.6916 Validation Accuracy: 78.68%\n"
     ]
    },
    {
     "name": "stderr",
     "output_type": "stream",
     "text": [
      "Training:  25%|██▌       | 5/20 [00:47<02:22,  9.53s/epoch]"
     ]
    },
    {
     "name": "stdout",
     "output_type": "stream",
     "text": [
      "Epoch [5/20] Train Loss: 0.1165 Train Accuracy: 96.77% Validation Loss: 1.4789 Validation Accuracy: 64.62%\n"
     ]
    },
    {
     "name": "stderr",
     "output_type": "stream",
     "text": [
      "Training:  30%|███       | 6/20 [00:56<02:10,  9.30s/epoch]"
     ]
    },
    {
     "name": "stdout",
     "output_type": "stream",
     "text": [
      "Epoch [6/20] Train Loss: 0.0784 Train Accuracy: 98.12% Validation Loss: 0.6481 Validation Accuracy: 79.64%\n"
     ]
    },
    {
     "name": "stderr",
     "output_type": "stream",
     "text": [
      "Training:  35%|███▌      | 7/20 [01:04<01:56,  8.99s/epoch]"
     ]
    },
    {
     "name": "stdout",
     "output_type": "stream",
     "text": [
      "Epoch [7/20] Train Loss: 0.0450 Train Accuracy: 99.03% Validation Loss: 0.5216 Validation Accuracy: 84.01%\n"
     ]
    },
    {
     "name": "stderr",
     "output_type": "stream",
     "text": [
      "Training:  40%|████      | 8/20 [01:13<01:45,  8.77s/epoch]"
     ]
    },
    {
     "name": "stdout",
     "output_type": "stream",
     "text": [
      "Epoch [8/20] Train Loss: 0.0419 Train Accuracy: 99.78% Validation Loss: 0.5460 Validation Accuracy: 84.81%\n"
     ]
    },
    {
     "name": "stderr",
     "output_type": "stream",
     "text": [
      "Training:  45%|████▌     | 9/20 [01:21<01:34,  8.62s/epoch]"
     ]
    },
    {
     "name": "stdout",
     "output_type": "stream",
     "text": [
      "Epoch [9/20] Train Loss: 0.0758 Train Accuracy: 98.92% Validation Loss: 0.7942 Validation Accuracy: 75.12%\n"
     ]
    },
    {
     "name": "stderr",
     "output_type": "stream",
     "text": [
      "Training:  50%|█████     | 10/20 [01:31<01:29,  8.99s/epoch]"
     ]
    },
    {
     "name": "stdout",
     "output_type": "stream",
     "text": [
      "Epoch [10/20] Train Loss: 0.0452 Train Accuracy: 99.46% Validation Loss: 0.5099 Validation Accuracy: 84.65%\n"
     ]
    },
    {
     "name": "stderr",
     "output_type": "stream",
     "text": [
      "Training:  55%|█████▌    | 11/20 [01:41<01:23,  9.30s/epoch]"
     ]
    },
    {
     "name": "stdout",
     "output_type": "stream",
     "text": [
      "Epoch [11/20] Train Loss: 0.0421 Train Accuracy: 99.08% Validation Loss: 0.6443 Validation Accuracy: 82.55%\n"
     ]
    },
    {
     "name": "stderr",
     "output_type": "stream",
     "text": [
      "Training:  60%|██████    | 12/20 [01:51<01:16,  9.62s/epoch]"
     ]
    },
    {
     "name": "stdout",
     "output_type": "stream",
     "text": [
      "Epoch [12/20] Train Loss: 0.0580 Train Accuracy: 98.38% Validation Loss: 1.9381 Validation Accuracy: 63.33%\n"
     ]
    },
    {
     "name": "stderr",
     "output_type": "stream",
     "text": [
      "Training:  65%|██████▌   | 13/20 [02:01<01:08,  9.76s/epoch]"
     ]
    },
    {
     "name": "stdout",
     "output_type": "stream",
     "text": [
      "Epoch [13/20] Train Loss: 0.0775 Train Accuracy: 99.03% Validation Loss: 0.6591 Validation Accuracy: 80.78%\n"
     ]
    },
    {
     "name": "stderr",
     "output_type": "stream",
     "text": [
      "Training:  70%|███████   | 14/20 [02:11<00:58,  9.74s/epoch]"
     ]
    },
    {
     "name": "stdout",
     "output_type": "stream",
     "text": [
      "Epoch [14/20] Train Loss: 0.0909 Train Accuracy: 97.63% Validation Loss: 0.9614 Validation Accuracy: 75.77%\n"
     ]
    },
    {
     "name": "stderr",
     "output_type": "stream",
     "text": [
      "Training:  75%|███████▌  | 15/20 [02:20<00:47,  9.46s/epoch]"
     ]
    },
    {
     "name": "stdout",
     "output_type": "stream",
     "text": [
      "Epoch [15/20] Train Loss: 0.0993 Train Accuracy: 97.36% Validation Loss: 0.9185 Validation Accuracy: 78.84%\n"
     ]
    },
    {
     "name": "stderr",
     "output_type": "stream",
     "text": [
      "Training:  80%|████████  | 16/20 [02:29<00:37,  9.37s/epoch]"
     ]
    },
    {
     "name": "stdout",
     "output_type": "stream",
     "text": [
      "Epoch [16/20] Train Loss: 0.0661 Train Accuracy: 98.98% Validation Loss: 0.6425 Validation Accuracy: 82.55%\n"
     ]
    },
    {
     "name": "stderr",
     "output_type": "stream",
     "text": [
      "Training:  85%|████████▌ | 17/20 [02:38<00:28,  9.42s/epoch]"
     ]
    },
    {
     "name": "stdout",
     "output_type": "stream",
     "text": [
      "Epoch [17/20] Train Loss: 0.0322 Train Accuracy: 99.62% Validation Loss: 0.5163 Validation Accuracy: 82.88%\n"
     ]
    },
    {
     "name": "stderr",
     "output_type": "stream",
     "text": [
      "Training:  90%|█████████ | 18/20 [02:47<00:18,  9.19s/epoch]"
     ]
    },
    {
     "name": "stdout",
     "output_type": "stream",
     "text": [
      "Epoch [18/20] Train Loss: 0.0406 Train Accuracy: 99.62% Validation Loss: 0.6064 Validation Accuracy: 84.65%\n"
     ]
    },
    {
     "name": "stderr",
     "output_type": "stream",
     "text": [
      "Training:  95%|█████████▌| 19/20 [02:55<00:08,  8.91s/epoch]"
     ]
    },
    {
     "name": "stdout",
     "output_type": "stream",
     "text": [
      "Epoch [19/20] Train Loss: 0.0321 Train Accuracy: 99.62% Validation Loss: 0.6998 Validation Accuracy: 82.71%\n"
     ]
    },
    {
     "name": "stderr",
     "output_type": "stream",
     "text": [
      "Training: 100%|██████████| 20/20 [03:03<00:00,  9.19s/epoch]"
     ]
    },
    {
     "name": "stdout",
     "output_type": "stream",
     "text": [
      "Epoch [20/20] Train Loss: 0.0491 Train Accuracy: 99.62% Validation Loss: 0.5356 Validation Accuracy: 84.65%\n"
     ]
    },
    {
     "name": "stderr",
     "output_type": "stream",
     "text": [
      "\n"
     ]
    }
   ],
   "source": [
    "for epoch in tqdm(range(epochs), desc=\"Training\", unit=\"epoch\"):\n",
    "    train_loss, train_accuracy, train_labels, train_preds = train(model, train_loader=train_loader,optimizer=optimizer, criterion=criterion, device=device)\n",
    "    val_loss, val_accuracy, val_labels, val_preds = evaluate(model, val_loader, criterion=criterion, device=device)\n",
    "\n",
    "    tqdm.write(\n",
    "        f\"Epoch [{epoch + 1}/{epochs}] \"\n",
    "        f\"Train Loss: {train_loss:.4f} \"\n",
    "        f\"Train Accuracy: {train_accuracy * 100:.2f}% \"\n",
    "        f\"Validation Loss: {val_loss:.4f} \"\n",
    "        f\"Validation Accuracy: {val_accuracy * 100:.2f}%\"\n",
    "    )\n"
   ]
  },
  {
   "cell_type": "code",
   "execution_count": 38,
   "metadata": {},
   "outputs": [
    {
     "name": "stderr",
     "output_type": "stream",
     "text": [
      "Testing:   5%|▌         | 1/20 [00:00<00:17,  1.10epoch/s]"
     ]
    },
    {
     "name": "stdout",
     "output_type": "stream",
     "text": [
      "Testing Epoch [1/20] Test Loss: 0.4997 Test Accuracy: 85.97% Time per Epoch: 0.91 seconds\n"
     ]
    },
    {
     "name": "stderr",
     "output_type": "stream",
     "text": [
      "Testing:  10%|█         | 2/20 [00:01<00:16,  1.08epoch/s]"
     ]
    },
    {
     "name": "stdout",
     "output_type": "stream",
     "text": [
      "Testing Epoch [2/20] Test Loss: 0.4946 Test Accuracy: 85.97% Time per Epoch: 0.93 seconds\n"
     ]
    },
    {
     "name": "stderr",
     "output_type": "stream",
     "text": [
      "Testing:  15%|█▌        | 3/20 [00:02<00:15,  1.08epoch/s]"
     ]
    },
    {
     "name": "stdout",
     "output_type": "stream",
     "text": [
      "Testing Epoch [3/20] Test Loss: 0.4802 Test Accuracy: 85.97% Time per Epoch: 0.92 seconds\n"
     ]
    },
    {
     "name": "stderr",
     "output_type": "stream",
     "text": [
      "Testing:  20%|██        | 4/20 [00:03<00:15,  1.05epoch/s]"
     ]
    },
    {
     "name": "stdout",
     "output_type": "stream",
     "text": [
      "Testing Epoch [4/20] Test Loss: 0.4841 Test Accuracy: 85.97% Time per Epoch: 1.00 seconds\n"
     ]
    },
    {
     "name": "stderr",
     "output_type": "stream",
     "text": [
      "Testing:  25%|██▌       | 5/20 [00:04<00:14,  1.03epoch/s]"
     ]
    },
    {
     "name": "stdout",
     "output_type": "stream",
     "text": [
      "Testing Epoch [5/20] Test Loss: 0.4965 Test Accuracy: 85.97% Time per Epoch: 1.00 seconds\n"
     ]
    },
    {
     "name": "stderr",
     "output_type": "stream",
     "text": [
      "Testing:  30%|███       | 6/20 [00:05<00:14,  1.02s/epoch]"
     ]
    },
    {
     "name": "stdout",
     "output_type": "stream",
     "text": [
      "Testing Epoch [6/20] Test Loss: 0.4820 Test Accuracy: 85.97% Time per Epoch: 1.12 seconds\n"
     ]
    },
    {
     "name": "stderr",
     "output_type": "stream",
     "text": [
      "Testing:  35%|███▌      | 7/20 [00:06<00:13,  1.01s/epoch]"
     ]
    },
    {
     "name": "stdout",
     "output_type": "stream",
     "text": [
      "Testing Epoch [7/20] Test Loss: 0.5205 Test Accuracy: 85.97% Time per Epoch: 0.97 seconds\n"
     ]
    },
    {
     "name": "stderr",
     "output_type": "stream",
     "text": [
      "Testing:  40%|████      | 8/20 [00:07<00:12,  1.00s/epoch]"
     ]
    },
    {
     "name": "stdout",
     "output_type": "stream",
     "text": [
      "Testing Epoch [8/20] Test Loss: 0.4894 Test Accuracy: 85.97% Time per Epoch: 0.99 seconds\n"
     ]
    },
    {
     "name": "stderr",
     "output_type": "stream",
     "text": [
      "Testing:  45%|████▌     | 9/20 [00:08<00:11,  1.01s/epoch]"
     ]
    },
    {
     "name": "stdout",
     "output_type": "stream",
     "text": [
      "Testing Epoch [9/20] Test Loss: 0.4908 Test Accuracy: 85.97% Time per Epoch: 1.04 seconds\n"
     ]
    },
    {
     "name": "stderr",
     "output_type": "stream",
     "text": [
      "Testing:  50%|█████     | 10/20 [00:10<00:10,  1.08s/epoch]"
     ]
    },
    {
     "name": "stdout",
     "output_type": "stream",
     "text": [
      "Testing Epoch [10/20] Test Loss: 0.4804 Test Accuracy: 85.97% Time per Epoch: 1.21 seconds\n"
     ]
    },
    {
     "name": "stderr",
     "output_type": "stream",
     "text": [
      "Testing:  55%|█████▌    | 11/20 [00:11<00:09,  1.07s/epoch]"
     ]
    },
    {
     "name": "stdout",
     "output_type": "stream",
     "text": [
      "Testing Epoch [11/20] Test Loss: 0.5248 Test Accuracy: 85.97% Time per Epoch: 1.05 seconds\n"
     ]
    },
    {
     "name": "stderr",
     "output_type": "stream",
     "text": [
      "Testing:  60%|██████    | 12/20 [00:12<00:08,  1.04s/epoch]"
     ]
    },
    {
     "name": "stdout",
     "output_type": "stream",
     "text": [
      "Testing Epoch [12/20] Test Loss: 0.4933 Test Accuracy: 85.97% Time per Epoch: 0.97 seconds\n"
     ]
    },
    {
     "name": "stderr",
     "output_type": "stream",
     "text": [
      "Testing:  65%|██████▌   | 13/20 [00:13<00:07,  1.02s/epoch]"
     ]
    },
    {
     "name": "stdout",
     "output_type": "stream",
     "text": [
      "Testing Epoch [13/20] Test Loss: 0.4960 Test Accuracy: 85.97% Time per Epoch: 0.97 seconds\n"
     ]
    },
    {
     "name": "stderr",
     "output_type": "stream",
     "text": [
      "Testing:  70%|███████   | 14/20 [00:14<00:06,  1.02s/epoch]"
     ]
    },
    {
     "name": "stdout",
     "output_type": "stream",
     "text": [
      "Testing Epoch [14/20] Test Loss: 0.4830 Test Accuracy: 85.97% Time per Epoch: 1.02 seconds\n"
     ]
    },
    {
     "name": "stderr",
     "output_type": "stream",
     "text": [
      "Testing:  75%|███████▌  | 15/20 [00:15<00:05,  1.04s/epoch]"
     ]
    },
    {
     "name": "stdout",
     "output_type": "stream",
     "text": [
      "Testing Epoch [15/20] Test Loss: 0.4983 Test Accuracy: 85.97% Time per Epoch: 1.09 seconds\n"
     ]
    },
    {
     "name": "stderr",
     "output_type": "stream",
     "text": [
      "Testing:  80%|████████  | 16/20 [00:16<00:04,  1.04s/epoch]"
     ]
    },
    {
     "name": "stdout",
     "output_type": "stream",
     "text": [
      "Testing Epoch [16/20] Test Loss: 0.4864 Test Accuracy: 85.97% Time per Epoch: 1.03 seconds\n"
     ]
    },
    {
     "name": "stderr",
     "output_type": "stream",
     "text": [
      "Testing:  85%|████████▌ | 17/20 [00:17<00:03,  1.04s/epoch]"
     ]
    },
    {
     "name": "stdout",
     "output_type": "stream",
     "text": [
      "Testing Epoch [17/20] Test Loss: 0.4857 Test Accuracy: 85.97% Time per Epoch: 1.03 seconds\n"
     ]
    },
    {
     "name": "stderr",
     "output_type": "stream",
     "text": [
      "Testing:  90%|█████████ | 18/20 [00:18<00:02,  1.03s/epoch]"
     ]
    },
    {
     "name": "stdout",
     "output_type": "stream",
     "text": [
      "Testing Epoch [18/20] Test Loss: 0.4856 Test Accuracy: 85.97% Time per Epoch: 1.01 seconds\n"
     ]
    },
    {
     "name": "stderr",
     "output_type": "stream",
     "text": [
      "Testing:  95%|█████████▌| 19/20 [00:19<00:01,  1.02s/epoch]"
     ]
    },
    {
     "name": "stdout",
     "output_type": "stream",
     "text": [
      "Testing Epoch [19/20] Test Loss: 0.4828 Test Accuracy: 85.97% Time per Epoch: 0.98 seconds\n"
     ]
    },
    {
     "name": "stderr",
     "output_type": "stream",
     "text": [
      "Testing: 100%|██████████| 20/20 [00:20<00:00,  1.01s/epoch]"
     ]
    },
    {
     "name": "stdout",
     "output_type": "stream",
     "text": [
      "Testing Epoch [20/20] Test Loss: 0.5266 Test Accuracy: 85.97% Time per Epoch: 1.00 seconds\n",
      "Average Test Loss: 0.4940\n",
      "Average Test Accuracy: 85.97%\n"
     ]
    },
    {
     "name": "stderr",
     "output_type": "stream",
     "text": [
      "\n"
     ]
    }
   ],
   "source": [
    "test_losses = []\n",
    "test_accuracies = []\n",
    "for epoch in tqdm(range(epochs), desc=\"Testing\", unit=\"epoch\"):\n",
    "    start_time = time.time()\n",
    "    test_loss, test_accuracy, test_labels, test_preds = evaluate(model, test_loader, criterion=criterion, device=device)\n",
    "    end_time = time.time()\n",
    "\n",
    "    epoch_time = end_time - start_time\n",
    "\n",
    "    test_losses.append(test_loss)\n",
    "    test_accuracies.append(test_accuracy)\n",
    "\n",
    "    tqdm.write(\n",
    "        f\"Testing Epoch [{epoch + 1}/{epochs}] \"\n",
    "        f\"Test Loss: {test_loss:.4f} \"\n",
    "        f\"Test Accuracy: {test_accuracy * 100:.2f}% \"\n",
    "        f\"Time per Epoch: {epoch_time:.2f} seconds\"\n",
    "    )\n",
    "\n",
    "avg_test_loss = sum(test_losses) / len(test_losses)\n",
    "avg_test_accuracy = sum(test_accuracies) / len(test_accuracies)\n",
    "print(f\"Average Test Loss: {avg_test_loss:.4f}\")\n",
    "print(f\"Average Test Accuracy: {avg_test_accuracy * 100:.2f}%\")"
   ]
  },
  {
   "cell_type": "markdown",
   "metadata": {},
   "source": [
    "Model Classification Model 1:"
   ]
  },
  {
   "cell_type": "code",
   "execution_count": 39,
   "metadata": {},
   "outputs": [
    {
     "name": "stdout",
     "output_type": "stream",
     "text": [
      "              precision    recall  f1-score   support\n",
      "\n",
      "           0       1.00      0.99      1.00       546\n",
      "           1       0.99      1.00      1.00       560\n",
      "           2       1.00      1.00      1.00       254\n",
      "           3       0.99      1.00      0.99       497\n",
      "\n",
      "    accuracy                           1.00      1857\n",
      "   macro avg       1.00      1.00      1.00      1857\n",
      "weighted avg       1.00      1.00      1.00      1857\n",
      "\n",
      "              precision    recall  f1-score   support\n",
      "\n",
      "           0       0.80      0.88      0.84       169\n",
      "           1       0.81      0.71      0.76       175\n",
      "           2       0.93      0.86      0.89        97\n",
      "           3       0.88      0.95      0.91       178\n",
      "\n",
      "    accuracy                           0.85       619\n",
      "   macro avg       0.86      0.85      0.85       619\n",
      "weighted avg       0.85      0.85      0.84       619\n",
      "\n",
      "              precision    recall  f1-score   support\n",
      "\n",
      "           0       0.82      0.88      0.85       186\n",
      "           1       0.87      0.73      0.80       178\n",
      "           2       0.94      0.90      0.92        87\n",
      "           3       0.85      0.96      0.90       169\n",
      "\n",
      "    accuracy                           0.86       620\n",
      "   macro avg       0.87      0.87      0.87       620\n",
      "weighted avg       0.86      0.86      0.86       620\n",
      "\n"
     ]
    },
    {
     "data": {
      "image/png": "[encoded data removed]",
      "text/plain": [
       "<Figure size 800x600 with 2 Axes>"
      ]
     },
     "metadata": {},
     "output_type": "display_data"
    },
    {
     "data": {
      "image/png": "[encoded data removed]",
      "text/plain": [
       "<Figure size 800x600 with 2 Axes>"
      ]
     },
     "metadata": {},
     "output_type": "display_data"
    },
    {
     "data": {
      "image/png": "[encoded data removed]",
      "text/plain": [
       "<Figure size 800x600 with 2 Axes>"
      ]
     },
     "metadata": {},
     "output_type": "display_data"
    }
   ],
   "source": [
    "confusion_train = confusion_matrix(train_labels, train_preds)\n",
    "confusion_val = confusion_matrix(val_labels, val_preds)\n",
    "confusion_test = confusion_matrix(test_labels, test_preds)\n",
    "\n",
    "print(classification_report(train_labels, train_preds))\n",
    "print(classification_report(val_labels, val_preds))\n",
    "print(classification_report(test_labels, test_preds))\n",
    "\n",
    "class_names = [str(i) for i in range(NUM_CLASSES)]  # Update with your class names\n",
    "plot_confusion_matrix(confusion_train, class_names, title='Train Confusion Matrix')\n",
    "plot_confusion_matrix(confusion_val, class_names, title='Validation Confusion Matrix')\n",
    "plot_confusion_matrix(confusion_test, class_names, title='Test Confusion Matrix')\n",
    "\n",
    "plt.show()"
   ]
  },
  {
   "cell_type": "markdown",
   "metadata": {},
   "source": [
    "Training and Testing PreBuilt ResNet:"
   ]
  },
  {
   "cell_type": "code",
   "execution_count": 40,
   "metadata": {},
   "outputs": [],
   "source": [
    "update_current_model(json_file_path, \"ResNet2\")\n",
    "model_config_file = open('../DL_notebooks/configs/model_configs.json')\n",
    "model_configs = json.load(model_config_file)\n",
    "current_model_configs = model_configs[model_configs['current-model']]\n",
    "\n",
    "epochs = current_model_configs['epoch-count']\n",
    "\n",
    "match model_configs['current-model']:\n",
    "    case 'ResNet2':\n",
    "        model = MRI_ResNet2\n",
    "match current_model_configs['loss-function']:\n",
    "    case 'cross-entropy':\n",
    "        criterion = nn.CrossEntropyLoss()\n",
    "    case _:\n",
    "        criterion = nn.CrossEntropyLoss()\n",
    "match current_model_configs['optimizer']:\n",
    "    case 'adam':\n",
    "        optimizer = optim.Adam\n",
    "    case 'adamW':\n",
    "        optimizer = optim.AdamW\n",
    "    case _:\n",
    "        optimizer = optim.Adam\n",
    "\n",
    "model = model(**current_model_configs['model-hyperparameters']).to(device)\n",
    "optimizer = optimizer(model.parameters(), lr=current_model_configs['optimizer-lr'])"
   ]
  },
  {
   "cell_type": "code",
   "execution_count": 41,
   "metadata": {},
   "outputs": [
    {
     "name": "stderr",
     "output_type": "stream",
     "text": [
      "Training:   7%|▋         | 1/15 [04:21<1:00:59, 261.39s/epoch]"
     ]
    },
    {
     "name": "stdout",
     "output_type": "stream",
     "text": [
      "Epoch [1/15] Train Loss: 0.9759 Train Accuracy: 68.66% Validation Loss: 0.7022 Validation Accuracy: 81.91%\n"
     ]
    },
    {
     "name": "stderr",
     "output_type": "stream",
     "text": [
      "Training:  13%|█▎        | 2/15 [09:41<1:04:08, 296.01s/epoch]"
     ]
    },
    {
     "name": "stdout",
     "output_type": "stream",
     "text": [
      "Epoch [2/15] Train Loss: 0.4155 Train Accuracy: 88.69% Validation Loss: 0.2914 Validation Accuracy: 92.41%\n"
     ]
    },
    {
     "name": "stderr",
     "output_type": "stream",
     "text": [
      "Training:  20%|██        | 3/15 [15:42<1:05:07, 325.66s/epoch]"
     ]
    },
    {
     "name": "stdout",
     "output_type": "stream",
     "text": [
      "Epoch [3/15] Train Loss: 0.2066 Train Accuracy: 95.85% Validation Loss: 0.2311 Validation Accuracy: 92.57%\n"
     ]
    },
    {
     "name": "stderr",
     "output_type": "stream",
     "text": [
      "Training:  27%|██▋       | 4/15 [21:38<1:01:53, 337.59s/epoch]"
     ]
    },
    {
     "name": "stdout",
     "output_type": "stream",
     "text": [
      "Epoch [4/15] Train Loss: 0.1142 Train Accuracy: 98.87% Validation Loss: 0.2132 Validation Accuracy: 94.02%\n"
     ]
    },
    {
     "name": "stderr",
     "output_type": "stream",
     "text": [
      "Training:  33%|███▎      | 5/15 [28:54<1:02:09, 372.97s/epoch]"
     ]
    },
    {
     "name": "stdout",
     "output_type": "stream",
     "text": [
      "Epoch [5/15] Train Loss: 0.0700 Train Accuracy: 99.30% Validation Loss: 0.1783 Validation Accuracy: 94.18%\n"
     ]
    },
    {
     "name": "stderr",
     "output_type": "stream",
     "text": [
      "Training:  40%|████      | 6/15 [36:34<1:00:24, 402.70s/epoch]"
     ]
    },
    {
     "name": "stdout",
     "output_type": "stream",
     "text": [
      "Epoch [6/15] Train Loss: 0.0437 Train Accuracy: 100.00% Validation Loss: 0.1805 Validation Accuracy: 93.21%\n"
     ]
    },
    {
     "name": "stderr",
     "output_type": "stream",
     "text": [
      "Training:  47%|████▋     | 7/15 [44:30<56:53, 426.66s/epoch]  "
     ]
    },
    {
     "name": "stdout",
     "output_type": "stream",
     "text": [
      "Epoch [7/15] Train Loss: 0.0415 Train Accuracy: 99.84% Validation Loss: 0.2179 Validation Accuracy: 92.57%\n"
     ]
    },
    {
     "name": "stderr",
     "output_type": "stream",
     "text": [
      "Training:  53%|█████▎    | 8/15 [50:27<47:12, 404.58s/epoch]"
     ]
    },
    {
     "name": "stdout",
     "output_type": "stream",
     "text": [
      "Epoch [8/15] Train Loss: 0.0389 Train Accuracy: 99.95% Validation Loss: 0.1964 Validation Accuracy: 94.18%\n"
     ]
    },
    {
     "name": "stderr",
     "output_type": "stream",
     "text": [
      "Training:  60%|██████    | 9/15 [56:20<38:50, 388.39s/epoch]"
     ]
    },
    {
     "name": "stdout",
     "output_type": "stream",
     "text": [
      "Epoch [9/15] Train Loss: 0.0331 Train Accuracy: 99.95% Validation Loss: 0.1801 Validation Accuracy: 94.83%\n"
     ]
    },
    {
     "name": "stderr",
     "output_type": "stream",
     "text": [
      "Training:  67%|██████▋   | 10/15 [1:02:25<31:45, 381.18s/epoch]"
     ]
    },
    {
     "name": "stdout",
     "output_type": "stream",
     "text": [
      "Epoch [10/15] Train Loss: 0.0271 Train Accuracy: 99.95% Validation Loss: 0.1945 Validation Accuracy: 94.35%\n"
     ]
    },
    {
     "name": "stderr",
     "output_type": "stream",
     "text": [
      "Training:  73%|███████▎  | 11/15 [1:08:18<24:50, 372.51s/epoch]"
     ]
    },
    {
     "name": "stdout",
     "output_type": "stream",
     "text": [
      "Epoch [11/15] Train Loss: 0.0301 Train Accuracy: 99.95% Validation Loss: 0.1792 Validation Accuracy: 94.18%\n"
     ]
    },
    {
     "name": "stderr",
     "output_type": "stream",
     "text": [
      "Training:  80%|████████  | 12/15 [1:14:03<18:11, 363.99s/epoch]"
     ]
    },
    {
     "name": "stdout",
     "output_type": "stream",
     "text": [
      "Epoch [12/15] Train Loss: 0.0243 Train Accuracy: 100.00% Validation Loss: 0.1983 Validation Accuracy: 93.38%\n"
     ]
    },
    {
     "name": "stderr",
     "output_type": "stream",
     "text": [
      "Training:  80%|████████  | 12/15 [1:18:42<19:40, 393.56s/epoch]\n"
     ]
    },
    {
     "ename": "KeyboardInterrupt",
     "evalue": "",
     "output_type": "error",
     "traceback": [
      "\u001b[1;31m---------------------------------------------------------------------------\u001b[0m",
      "\u001b[1;31mKeyboardInterrupt\u001b[0m                         Traceback (most recent call last)",
      "\u001b[1;32mc:\\Users\\gabeb\\Documents\\GitHub\\DeepLearning_Final_Project\\ML_notebooks\\ResNet.ipynb Cell 15\u001b[0m line \u001b[0;36m2\n\u001b[0;32m      <a href='vscode-notebook-cell:/c%3A/Users/gabeb/Documents/GitHub/DeepLearning_Final_Project/ML_notebooks/ResNet.ipynb#X20sZmlsZQ%3D%3D?line=0'>1</a>\u001b[0m \u001b[39mfor\u001b[39;00m epoch \u001b[39min\u001b[39;00m tqdm(\u001b[39mrange\u001b[39m(epochs), desc\u001b[39m=\u001b[39m\u001b[39m\"\u001b[39m\u001b[39mTraining\u001b[39m\u001b[39m\"\u001b[39m, unit\u001b[39m=\u001b[39m\u001b[39m\"\u001b[39m\u001b[39mepoch\u001b[39m\u001b[39m\"\u001b[39m):\n\u001b[1;32m----> <a href='vscode-notebook-cell:/c%3A/Users/gabeb/Documents/GitHub/DeepLearning_Final_Project/ML_notebooks/ResNet.ipynb#X20sZmlsZQ%3D%3D?line=1'>2</a>\u001b[0m     train_loss, train_accuracy, train_labels2, train_preds2 \u001b[39m=\u001b[39m train(model, train_loader\u001b[39m=\u001b[39;49mtrain_loader,optimizer\u001b[39m=\u001b[39;49moptimizer, criterion\u001b[39m=\u001b[39;49mcriterion, device\u001b[39m=\u001b[39;49mdevice)\n\u001b[0;32m      <a href='vscode-notebook-cell:/c%3A/Users/gabeb/Documents/GitHub/DeepLearning_Final_Project/ML_notebooks/ResNet.ipynb#X20sZmlsZQ%3D%3D?line=2'>3</a>\u001b[0m     val_loss, val_accuracy, val_labels2, val_preds2 \u001b[39m=\u001b[39m evaluate(model, val_loader, criterion\u001b[39m=\u001b[39mcriterion, device\u001b[39m=\u001b[39mdevice)\n\u001b[0;32m      <a href='vscode-notebook-cell:/c%3A/Users/gabeb/Documents/GitHub/DeepLearning_Final_Project/ML_notebooks/ResNet.ipynb#X20sZmlsZQ%3D%3D?line=4'>5</a>\u001b[0m     tqdm\u001b[39m.\u001b[39mwrite(\n\u001b[0;32m      <a href='vscode-notebook-cell:/c%3A/Users/gabeb/Documents/GitHub/DeepLearning_Final_Project/ML_notebooks/ResNet.ipynb#X20sZmlsZQ%3D%3D?line=5'>6</a>\u001b[0m         \u001b[39mf\u001b[39m\u001b[39m\"\u001b[39m\u001b[39mEpoch [\u001b[39m\u001b[39m{\u001b[39;00mepoch\u001b[39m \u001b[39m\u001b[39m+\u001b[39m\u001b[39m \u001b[39m\u001b[39m1\u001b[39m\u001b[39m}\u001b[39;00m\u001b[39m/\u001b[39m\u001b[39m{\u001b[39;00mepochs\u001b[39m}\u001b[39;00m\u001b[39m] \u001b[39m\u001b[39m\"\u001b[39m\n\u001b[0;32m      <a href='vscode-notebook-cell:/c%3A/Users/gabeb/Documents/GitHub/DeepLearning_Final_Project/ML_notebooks/ResNet.ipynb#X20sZmlsZQ%3D%3D?line=6'>7</a>\u001b[0m         \u001b[39mf\u001b[39m\u001b[39m\"\u001b[39m\u001b[39mTrain Loss: \u001b[39m\u001b[39m{\u001b[39;00mtrain_loss\u001b[39m:\u001b[39;00m\u001b[39m.4f\u001b[39m\u001b[39m}\u001b[39;00m\u001b[39m \u001b[39m\u001b[39m\"\u001b[39m\n\u001b[1;32m   (...)\u001b[0m\n\u001b[0;32m     <a href='vscode-notebook-cell:/c%3A/Users/gabeb/Documents/GitHub/DeepLearning_Final_Project/ML_notebooks/ResNet.ipynb#X20sZmlsZQ%3D%3D?line=9'>10</a>\u001b[0m         \u001b[39mf\u001b[39m\u001b[39m\"\u001b[39m\u001b[39mValidation Accuracy: \u001b[39m\u001b[39m{\u001b[39;00mval_accuracy\u001b[39m \u001b[39m\u001b[39m*\u001b[39m\u001b[39m \u001b[39m\u001b[39m100\u001b[39m\u001b[39m:\u001b[39;00m\u001b[39m.2f\u001b[39m\u001b[39m}\u001b[39;00m\u001b[39m%\u001b[39m\u001b[39m\"\u001b[39m\n\u001b[0;32m     <a href='vscode-notebook-cell:/c%3A/Users/gabeb/Documents/GitHub/DeepLearning_Final_Project/ML_notebooks/ResNet.ipynb#X20sZmlsZQ%3D%3D?line=10'>11</a>\u001b[0m     )\n",
      "File \u001b[1;32m~\\AppData\\Local\\Temp\\ipykernel_34288\\275537752.py:16\u001b[0m, in \u001b[0;36mtrain\u001b[1;34m(model, train_loader, optimizer, criterion, device)\u001b[0m\n\u001b[0;32m     13\u001b[0m outputs \u001b[39m=\u001b[39m model(inputs)\n\u001b[0;32m     14\u001b[0m loss \u001b[39m=\u001b[39m criterion(outputs, labels)\n\u001b[1;32m---> 16\u001b[0m loss\u001b[39m.\u001b[39;49mbackward()\n\u001b[0;32m     17\u001b[0m optimizer\u001b[39m.\u001b[39mstep()\n\u001b[0;32m     19\u001b[0m total_loss \u001b[39m+\u001b[39m\u001b[39m=\u001b[39m loss\u001b[39m.\u001b[39mitem()\n",
      "File \u001b[1;32m~\\AppData\\Local\\Packages\\PythonSoftwareFoundation.Python.3.10_qbz5n2kfra8p0\\LocalCache\\local-packages\\Python310\\site-packages\\torch\\_tensor.py:492\u001b[0m, in \u001b[0;36mTensor.backward\u001b[1;34m(self, gradient, retain_graph, create_graph, inputs)\u001b[0m\n\u001b[0;32m    482\u001b[0m \u001b[39mif\u001b[39;00m has_torch_function_unary(\u001b[39mself\u001b[39m):\n\u001b[0;32m    483\u001b[0m     \u001b[39mreturn\u001b[39;00m handle_torch_function(\n\u001b[0;32m    484\u001b[0m         Tensor\u001b[39m.\u001b[39mbackward,\n\u001b[0;32m    485\u001b[0m         (\u001b[39mself\u001b[39m,),\n\u001b[1;32m   (...)\u001b[0m\n\u001b[0;32m    490\u001b[0m         inputs\u001b[39m=\u001b[39minputs,\n\u001b[0;32m    491\u001b[0m     )\n\u001b[1;32m--> 492\u001b[0m torch\u001b[39m.\u001b[39;49mautograd\u001b[39m.\u001b[39;49mbackward(\n\u001b[0;32m    493\u001b[0m     \u001b[39mself\u001b[39;49m, gradient, retain_graph, create_graph, inputs\u001b[39m=\u001b[39;49minputs\n\u001b[0;32m    494\u001b[0m )\n",
      "File \u001b[1;32m~\\AppData\\Local\\Packages\\PythonSoftwareFoundation.Python.3.10_qbz5n2kfra8p0\\LocalCache\\local-packages\\Python310\\site-packages\\torch\\autograd\\__init__.py:251\u001b[0m, in \u001b[0;36mbackward\u001b[1;34m(tensors, grad_tensors, retain_graph, create_graph, grad_variables, inputs)\u001b[0m\n\u001b[0;32m    246\u001b[0m     retain_graph \u001b[39m=\u001b[39m create_graph\n\u001b[0;32m    248\u001b[0m \u001b[39m# The reason we repeat the same comment below is that\u001b[39;00m\n\u001b[0;32m    249\u001b[0m \u001b[39m# some Python versions print out the first line of a multi-line function\u001b[39;00m\n\u001b[0;32m    250\u001b[0m \u001b[39m# calls in the traceback and some print out the last line\u001b[39;00m\n\u001b[1;32m--> 251\u001b[0m Variable\u001b[39m.\u001b[39;49m_execution_engine\u001b[39m.\u001b[39;49mrun_backward(  \u001b[39m# Calls into the C++ engine to run the backward pass\u001b[39;49;00m\n\u001b[0;32m    252\u001b[0m     tensors,\n\u001b[0;32m    253\u001b[0m     grad_tensors_,\n\u001b[0;32m    254\u001b[0m     retain_graph,\n\u001b[0;32m    255\u001b[0m     create_graph,\n\u001b[0;32m    256\u001b[0m     inputs,\n\u001b[0;32m    257\u001b[0m     allow_unreachable\u001b[39m=\u001b[39;49m\u001b[39mTrue\u001b[39;49;00m,\n\u001b[0;32m    258\u001b[0m     accumulate_grad\u001b[39m=\u001b[39;49m\u001b[39mTrue\u001b[39;49;00m,\n\u001b[0;32m    259\u001b[0m )\n",
      "\u001b[1;31mKeyboardInterrupt\u001b[0m: "
     ]
    }
   ],
   "source": [
    "for epoch in tqdm(range(epochs), desc=\"Training\", unit=\"epoch\"):\n",
    "    train_loss, train_accuracy, train_labels2, train_preds2 = train(model, train_loader=train_loader,optimizer=optimizer, criterion=criterion, device=device)\n",
    "    val_loss, val_accuracy, val_labels2, val_preds2 = evaluate(model, val_loader, criterion=criterion, device=device)\n",
    "\n",
    "    tqdm.write(\n",
    "        f\"Epoch [{epoch + 1}/{epochs}] \"\n",
    "        f\"Train Loss: {train_loss:.4f} \"\n",
    "        f\"Train Accuracy: {train_accuracy * 100:.2f}% \"\n",
    "        f\"Validation Loss: {val_loss:.4f} \"\n",
    "        f\"Validation Accuracy: {val_accuracy * 100:.2f}%\"\n",
    "    )\n"
   ]
  },
  {
   "cell_type": "code",
   "execution_count": null,
   "metadata": {},
   "outputs": [
    {
     "name": "stderr",
     "output_type": "stream",
     "text": [
      "Testing:  10%|█         | 1/10 [00:09<01:29,  9.93s/epoch]"
     ]
    },
    {
     "name": "stdout",
     "output_type": "stream",
     "text": [
      "Testing Epoch [1/10] Test Loss: 0.2520 Test Accuracy: 93.39% Time per Epoch: 9.93 seconds\n"
     ]
    },
    {
     "name": "stderr",
     "output_type": "stream",
     "text": [
      "Testing:  20%|██        | 2/10 [00:19<01:19,  9.89s/epoch]"
     ]
    },
    {
     "name": "stdout",
     "output_type": "stream",
     "text": [
      "Testing Epoch [2/10] Test Loss: 0.2372 Test Accuracy: 93.39% Time per Epoch: 9.85 seconds\n"
     ]
    },
    {
     "name": "stderr",
     "output_type": "stream",
     "text": [
      "Testing:  30%|███       | 3/10 [00:29<01:09,  9.88s/epoch]"
     ]
    },
    {
     "name": "stdout",
     "output_type": "stream",
     "text": [
      "Testing Epoch [3/10] Test Loss: 0.2353 Test Accuracy: 93.39% Time per Epoch: 9.87 seconds\n"
     ]
    },
    {
     "name": "stderr",
     "output_type": "stream",
     "text": [
      "Testing:  40%|████      | 4/10 [00:39<00:59,  9.89s/epoch]"
     ]
    },
    {
     "name": "stdout",
     "output_type": "stream",
     "text": [
      "Testing Epoch [4/10] Test Loss: 0.2344 Test Accuracy: 93.39% Time per Epoch: 9.90 seconds\n"
     ]
    },
    {
     "name": "stderr",
     "output_type": "stream",
     "text": [
      "Testing:  50%|█████     | 5/10 [00:49<00:49,  9.90s/epoch]"
     ]
    },
    {
     "name": "stdout",
     "output_type": "stream",
     "text": [
      "Testing Epoch [5/10] Test Loss: 0.2343 Test Accuracy: 93.39% Time per Epoch: 9.92 seconds\n"
     ]
    },
    {
     "name": "stderr",
     "output_type": "stream",
     "text": [
      "Testing:  60%|██████    | 6/10 [00:59<00:39,  9.90s/epoch]"
     ]
    },
    {
     "name": "stdout",
     "output_type": "stream",
     "text": [
      "Testing Epoch [6/10] Test Loss: 0.2443 Test Accuracy: 93.39% Time per Epoch: 9.89 seconds\n"
     ]
    },
    {
     "name": "stderr",
     "output_type": "stream",
     "text": [
      "Testing:  70%|███████   | 7/10 [01:09<00:29,  9.89s/epoch]"
     ]
    },
    {
     "name": "stdout",
     "output_type": "stream",
     "text": [
      "Testing Epoch [7/10] Test Loss: 0.2483 Test Accuracy: 93.39% Time per Epoch: 9.88 seconds\n"
     ]
    },
    {
     "name": "stderr",
     "output_type": "stream",
     "text": [
      "Testing:  80%|████████  | 8/10 [01:19<00:19,  9.89s/epoch]"
     ]
    },
    {
     "name": "stdout",
     "output_type": "stream",
     "text": [
      "Testing Epoch [8/10] Test Loss: 0.2359 Test Accuracy: 93.39% Time per Epoch: 9.89 seconds\n"
     ]
    },
    {
     "name": "stderr",
     "output_type": "stream",
     "text": [
      "Testing:  90%|█████████ | 9/10 [01:29<00:09,  9.90s/epoch]"
     ]
    },
    {
     "name": "stdout",
     "output_type": "stream",
     "text": [
      "Testing Epoch [9/10] Test Loss: 0.2487 Test Accuracy: 93.39% Time per Epoch: 9.91 seconds\n"
     ]
    },
    {
     "name": "stderr",
     "output_type": "stream",
     "text": [
      "Testing: 100%|██████████| 10/10 [01:39<00:00,  9.90s/epoch]"
     ]
    },
    {
     "name": "stdout",
     "output_type": "stream",
     "text": [
      "Testing Epoch [10/10] Test Loss: 0.2409 Test Accuracy: 93.39% Time per Epoch: 9.94 seconds\n",
      "Average Test Loss: 0.2411\n",
      "Average Test Accuracy: 93.39%\n"
     ]
    },
    {
     "name": "stderr",
     "output_type": "stream",
     "text": [
      "\n"
     ]
    }
   ],
   "source": [
    "test_losses2 = []\n",
    "test_accuracies2 = []\n",
    "for epoch in tqdm(range(epochs), desc=\"Testing\", unit=\"epoch\"):\n",
    "    start_time = time.time()\n",
    "    test_loss2, test_accuracy2, test_label2, test_preds2 = evaluate(model, test_loader, criterion=criterion, device=device)\n",
    "    end_time = time.time()\n",
    "\n",
    "    epoch_time = end_time - start_time\n",
    "\n",
    "    test_losses2.append(test_loss2)\n",
    "    test_accuracies2.append(test_accuracy2)\n",
    "\n",
    "    tqdm.write(\n",
    "        f\"Testing Epoch [{epoch + 1}/{epochs}] \"\n",
    "        f\"Test Loss: {test_loss2:.4f} \"\n",
    "        f\"Test Accuracy: {test_accuracy2 * 100:.2f}% \"\n",
    "        f\"Time per Epoch: {epoch_time:.2f} seconds\"\n",
    "    )\n",
    "\n",
    "avg_test_loss = sum(test_losses2) / len(test_losses2)\n",
    "avg_test_accuracy = sum(test_accuracies2) / len(test_accuracies2)\n",
    "print(f\"Average Test Loss: {avg_test_loss:.4f}\")\n",
    "print(f\"Average Test Accuracy: {avg_test_accuracy * 100:.2f}%\")"
   ]
  },
  {
   "cell_type": "markdown",
   "metadata": {},
   "source": [
    "Model Classification for Model 2:"
   ]
  },
  {
   "cell_type": "code",
   "execution_count": null,
   "metadata": {},
   "outputs": [
    {
     "name": "stdout",
     "output_type": "stream",
     "text": [
      "              precision    recall  f1-score   support\n",
      "\n",
      "           0       1.00      1.00      1.00       546\n",
      "           1       1.00      1.00      1.00       560\n",
      "           2       1.00      1.00      1.00       254\n",
      "           3       1.00      1.00      1.00       497\n",
      "\n",
      "    accuracy                           1.00      1857\n",
      "   macro avg       1.00      1.00      1.00      1857\n",
      "weighted avg       1.00      1.00      1.00      1857\n",
      "\n",
      "              precision    recall  f1-score   support\n",
      "\n",
      "           0       0.96      0.94      0.95       169\n",
      "           1       0.94      0.87      0.91       175\n",
      "           2       0.90      1.00      0.95        97\n",
      "           3       0.95      0.98      0.96       178\n",
      "\n",
      "    accuracy                           0.94       619\n",
      "   macro avg       0.94      0.95      0.94       619\n",
      "weighted avg       0.94      0.94      0.94       619\n",
      "\n",
      "              precision    recall  f1-score   support\n",
      "\n",
      "           0       0.94      0.93      0.93       186\n",
      "           1       0.94      0.85      0.89       178\n",
      "           2       0.90      1.00      0.95        87\n",
      "           3       0.95      0.99      0.97       169\n",
      "\n",
      "    accuracy                           0.93       620\n",
      "   macro avg       0.93      0.94      0.94       620\n",
      "weighted avg       0.93      0.93      0.93       620\n",
      "\n"
     ]
    },
    {
     "data": {
      "image/png": "[encoded data removed]",
      "text/plain": [
       "<Figure size 800x600 with 2 Axes>"
      ]
     },
     "metadata": {},
     "output_type": "display_data"
    },
    {
     "data": {
      "image/png": "[encoded data removed]",
      "text/plain": [
       "<Figure size 800x600 with 2 Axes>"
      ]
     },
     "metadata": {},
     "output_type": "display_data"
    },
    {
     "data": {
      "image/png": "[encoded data removed]",
      "text/plain": [
       "<Figure size 800x600 with 2 Axes>"
      ]
     },
     "metadata": {},
     "output_type": "display_data"
    }
   ],
   "source": [
    "confusion_train = confusion_matrix(train_labels2, train_preds2)\n",
    "confusion_val = confusion_matrix(val_labels2, val_preds2)\n",
    "confusion_test = confusion_matrix(test_label2, test_preds2)\n",
    "\n",
    "print(classification_report(train_labels2, train_preds2))\n",
    "print(classification_report(val_labels2, val_preds2))\n",
    "print(classification_report(test_label2, test_preds2))\n",
    "\n",
    "class_names = [str(i) for i in range(NUM_CLASSES)]  # Update with your class names\n",
    "plot_confusion_matrix(confusion_train, class_names, title='Train Confusion Matrix')\n",
    "plot_confusion_matrix(confusion_val, class_names, title='Validation Confusion Matrix')\n",
    "plot_confusion_matrix(confusion_test, class_names, title='Test Confusion Matrix')\n",
    "\n",
    "plt.show()"
   ]
  },
  {
   "cell_type": "code",
   "execution_count": null,
   "metadata": {},
   "outputs": [],
   "source": []
  }
 ],
 "metadata": {
  "kernelspec": {
   "display_name": "Python 3",
   "language": "python",
   "name": "python3"
  },
  "language_info": {
   "codemirror_mode": {
    "name": "ipython",
    "version": 3
   },
   "file_extension": ".py",
   "mimetype": "text/x-python",
   "name": "python",
   "nbconvert_exporter": "python",
   "pygments_lexer": "ipython3",
   "version": "3.11.6"
  }
 },
 "nbformat": 4,
 "nbformat_minor": 2
}
